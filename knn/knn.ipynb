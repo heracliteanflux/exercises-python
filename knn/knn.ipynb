{
 "cells": [
  {
   "cell_type": "markdown",
   "metadata": {},
   "source": [
    "# K Nearest Neighbors"
   ]
  },
  {
   "cell_type": "markdown",
   "metadata": {},
   "source": [
    "---"
   ]
  },
  {
   "cell_type": "markdown",
   "metadata": {},
   "source": [
    "## Programming Environment"
   ]
  },
  {
   "cell_type": "code",
   "execution_count": 1,
   "metadata": {},
   "outputs": [],
   "source": [
    "import numpy  as np\n",
    "np.set_printoptions(suppress=True)\n",
    "import pandas as pd"
   ]
  },
  {
   "cell_type": "markdown",
   "metadata": {},
   "source": [
    "---"
   ]
  },
  {
   "cell_type": "markdown",
   "metadata": {},
   "source": [
    "[MATRIX NOTATION]\n",
    "\n",
    "A matrix $X$ of type $(I, J)$ is a function $f$ from $I \\times J$.\n",
    "\n",
    "$I = \\{1, \\dots, m\\}$ is an index set for rows and $J = \\{1, \\dots, n\\}$ is an index set for columns for some $m, n \\in \\mathbb{N}$.\n",
    "\n",
    "Since a matrix is just a function its element in the $i$-th row and $j$-th column is just $X(i, j)$. $X(i, j)$ is written $x_{ij}$. $(x_{ij})$ is an abbreviation for $(x_{ij} : i \\in I, j \\in J)$ which is the function analogue for set-builder notation $\\{ x_{ij} : i \\in I, j \\in J \\}$\n",
    "\n",
    "$X_{[m \\times n]}$ explicitly specifies the dimensions.\n",
    "\n",
    "$\n",
    "\\begin{aligned}\n",
    "\\sum_{j=1}^n x_{ij}\n",
    "\\end{aligned}\n",
    "$\n",
    "represents the sum of the $i$-th row.\n",
    "\n",
    "[EUCLIDEAN DISTANCE between two vectors]\n",
    "\n",
    "$\n",
    "\\begin{aligned}\n",
    "\\mathbf{x} &= \\langle x_1, \\dots, x_n \\rangle\n",
    "\\\\\n",
    "\\mathbf{y} &= \\langle y_1, \\dots, y_n \\rangle\n",
    "\\\\\n",
    "\\|\\mathbf{x} - \\mathbf{y}\\|_2\n",
    "&= \\sqrt{(x_1 - y_1)^2 + \\dots + (x_n - y_n)^2}\n",
    "= \\sqrt{\\sum_{i=1}^n (x_i - y_i)^2}\n",
    "\\\\\n",
    "\\|\\mathbf{x} - \\mathbf{y}\\|_2^2\n",
    "&= (x_1 - y_1)^2 + \\dots + (x_n - y_n)^2\n",
    "= \\sum_{i=1}^n (x_i - y_i)^2\n",
    "\\end{aligned}\n",
    "$\n",
    "\n",
    "[L2 EUCLIDEAN NORM]\n",
    "\n",
    "$\n",
    "\\begin{aligned}\n",
    "\\mathbf{x} &= \\langle x_1, \\dots, x_n \\rangle\n",
    "\\\\\n",
    "\\|\\mathbf{x}\\|_2\n",
    "&= \\sqrt{\\mathbf{x} \\cdot \\mathbf{x}}\n",
    "= \\sqrt{x_1^2 + \\dots + x_n^2}\n",
    "= \\sqrt{\\sum_{i=1}^n x_i^2}\n",
    "\\\\\n",
    "\\|\\mathbf{x}\\|_2^2\n",
    "&= \\mathbf{x} \\cdot \\mathbf{x}\n",
    "= x_1^2 + \\dots + x_n^2\n",
    "= \\sum_{i=1}^n x_i^2\n",
    "\\end{aligned}\n",
    "$\n",
    "\n",
    "[DISTANCE MATRIX]\n",
    "\n",
    "A distance matrix $\\text{dist}$ is a square matrix that captures the pairwise distances between a set of vectors $x_1, \\dots, x_n$. The element $\\text{dist}_{ij}$ represents the distance between $x_i$ and $x_j$. Tthe matrix is symmetric, since $\\text{dist}_{ij}=\\text{dist}_{ji}$, and the dimensionality of the matrix is $n \\times n$.\n",
    "\n",
    "The matrix $X_{[n \\times d]}$ represents a set of $n$ data points of dimension $d$ where $i, j \\in \\{ 1, \\dots, n \\}$ are indices over the data points and $k \\in \\{ 1, \\dots, d \\}$ is an index over the dimension.\n",
    "\n",
    "$X_i$ (or $X_j$) is the $i$-th (or $j$-th) data point in the data set (or the $i$-th (or $j$-th) row vector $\\mathbf{x_i}$ (or $\\mathbf{x_j}$) in the matrix).\n",
    "\n",
    "$X_{ik}$ is the $k$-th element of the $i$-th row vector of the matrix $X$ and can be written $x_{ik}$.\n",
    "\n",
    "$\n",
    "\\begin{aligned}\n",
    "X      &&              && \\text{matrix} \\\\\n",
    "X_i    && \\mathbf{x_i} && \\text{vector} \\\\\n",
    "X_{ik} && x_{ik}       && \\text{scalar} \\\\\n",
    "\\end{aligned}\n",
    "$\n",
    "\n",
    "$\n",
    "\\begin{aligned}\n",
    "\\text{dist}_{ij} &= \\sqrt{\\sum_{k=1}^d (x_{ik} - x_{jk})^2} \\\\\n",
    "                 &= \\sqrt{\\sum_{k=1}^d (x^2_{ik} - 2x_{ik}x_{jk} + x^2_{jk})} \\\\\n",
    "                 &= \\sqrt{\\sum_{k=1}^d x^2_{ik} - 2 \\sum_{k=1}^d x_{ik}X_{jk} + \\sum_{k=1}^d x^2_{jk}} \\\\\n",
    "                 &= \\mathbf{x_i} \\cdot \\mathbf{x_i} - 2 \\mathbf{x_i} \\cdot \\mathbf{x_j} + \\mathbf{x_j} \\cdot \\mathbf{x_j} \\\\\n",
    "                 &= x_i^T x_i - 2 x_i^T x_j + x_j^T x_j \\\\\n",
    "\\end{aligned}\n",
    "$"
   ]
  },
  {
   "cell_type": "markdown",
   "metadata": {},
   "source": [
    "### Example"
   ]
  },
  {
   "cell_type": "markdown",
   "metadata": {},
   "source": [
    "$\n",
    "\\begin{aligned}\n",
    "X_{[n \\times k]} &=\n",
    "\\begin{bmatrix}\n",
    "1 & 2 \\\\\n",
    "3 & 4 \\\\\n",
    "5 & 6 \\\\\n",
    "\\end{bmatrix}\n",
    "\\\\\n",
    "X^{\\circ 2} &=\n",
    "\\begin{bmatrix}\n",
    "1^2 & 2^2 \\\\\n",
    "3^2 & 4^2 \\\\\n",
    "5^2 & 6^2 \\\\\n",
    "\\end{bmatrix}\n",
    "= \\begin{bmatrix}\n",
    " 1 &  4 \\\\\n",
    " 9 & 16 \\\\\n",
    "25 & 36 \\\\\n",
    "\\end{bmatrix}\n",
    "\\\\\n",
    "\\sum_{k=1}^d x^{\\circ 2}_{ik}\n",
    "&= \\begin{bmatrix}\n",
    " 1 +  4 \\\\\n",
    " 9 + 16 \\\\\n",
    "25 + 36 \\\\\n",
    "\\end{bmatrix}\n",
    "= \\begin{bmatrix}\n",
    " 5 \\\\\n",
    "25 \\\\\n",
    "61 \\\\\n",
    "\\end{bmatrix}\n",
    "\\end{aligned}\n",
    "$"
   ]
  },
  {
   "cell_type": "code",
   "execution_count": 3,
   "metadata": {},
   "outputs": [
    {
     "data": {
      "text/plain": [
       "array([[ 5, 11, 17],\n",
       "       [11, 25, 39],\n",
       "       [17, 39, 61]])"
      ]
     },
     "execution_count": 3,
     "metadata": {},
     "output_type": "execute_result"
    }
   ],
   "source": [
    "X   = np.array([1, 2, 3, 4, 5, 6]).reshape( 3,  2)\n",
    "xsq = np.sum(np.square(X), axis=1).reshape(-1,  1)\n",
    "ysq = np.sum(np.square(X), axis=1).reshape( 1, -1)\n",
    "xy  = X @ X.T\n",
    "xy"
   ]
  },
  {
   "cell_type": "code",
   "execution_count": 4,
   "metadata": {},
   "outputs": [
    {
     "data": {
      "text/plain": [
       "array([[0.        , 2.82842712, 5.65685425],\n",
       "       [2.82842712, 0.        , 2.82842712],\n",
       "       [5.65685425, 2.82842712, 0.        ]])"
      ]
     },
     "execution_count": 4,
     "metadata": {},
     "output_type": "execute_result"
    }
   ],
   "source": [
    "dist = np.sqrt(xsq - 2 * xy + ysq)\n",
    "dist"
   ]
  },
  {
   "cell_type": "markdown",
   "metadata": {},
   "source": [
    "---"
   ]
  },
  {
   "cell_type": "markdown",
   "metadata": {},
   "source": [
    "## Wine Data Set"
   ]
  },
  {
   "cell_type": "code",
   "execution_count": 282,
   "metadata": {},
   "outputs": [
    {
     "name": "stdout",
     "output_type": "stream",
     "text": [
      "class:  ndarray\n",
      "shape:  (178, 14)\n",
      "strides:  (112, 8)\n",
      "itemsize:  8\n",
      "aligned:  True\n",
      "contiguous:  True\n",
      "fortran:  False\n",
      "data pointer: 0x14b9cd800\n",
      "byteorder:  little\n",
      "byteswap:  False\n",
      "type: float64\n"
     ]
    }
   ],
   "source": [
    "D = np.loadtxt(fname='wine/wine.data', delimiter=',')\n",
    "np.info(D)"
   ]
  },
  {
   "cell_type": "code",
   "execution_count": 283,
   "metadata": {},
   "outputs": [
    {
     "data": {
      "text/plain": [
       "(178, 13)"
      ]
     },
     "execution_count": 283,
     "metadata": {},
     "output_type": "execute_result"
    }
   ],
   "source": [
    "X = D[:,1:]\n",
    "X.shape"
   ]
  },
  {
   "cell_type": "code",
   "execution_count": 301,
   "metadata": {},
   "outputs": [
    {
     "name": "stdout",
     "output_type": "stream",
     "text": [
      "(178, 1)\n",
      "(178, 178)\n",
      "(1, 178)\n"
     ]
    },
    {
     "name": "stderr",
     "output_type": "stream",
     "text": [
      "/var/folders/89/5r24znsj4jbfr7zrccy5yn0c0000gn/T/ipykernel_25678/462695083.py:9: RuntimeWarning: invalid value encountered in sqrt\n",
      "  dist = np.sqrt(x2 - 2*xy + y2)\n"
     ]
    },
    {
     "data": {
      "text/html": [
       "<div>\n",
       "<style scoped>\n",
       "    .dataframe tbody tr th:only-of-type {\n",
       "        vertical-align: middle;\n",
       "    }\n",
       "\n",
       "    .dataframe tbody tr th {\n",
       "        vertical-align: top;\n",
       "    }\n",
       "\n",
       "    .dataframe thead th {\n",
       "        text-align: right;\n",
       "    }\n",
       "</style>\n",
       "<table border=\"1\" class=\"dataframe\">\n",
       "  <thead>\n",
       "    <tr style=\"text-align: right;\">\n",
       "      <th></th>\n",
       "      <th>0</th>\n",
       "      <th>1</th>\n",
       "      <th>2</th>\n",
       "      <th>3</th>\n",
       "      <th>4</th>\n",
       "      <th>5</th>\n",
       "      <th>6</th>\n",
       "      <th>7</th>\n",
       "      <th>8</th>\n",
       "      <th>9</th>\n",
       "      <th>...</th>\n",
       "      <th>168</th>\n",
       "      <th>169</th>\n",
       "      <th>170</th>\n",
       "      <th>171</th>\n",
       "      <th>172</th>\n",
       "      <th>173</th>\n",
       "      <th>174</th>\n",
       "      <th>175</th>\n",
       "      <th>176</th>\n",
       "      <th>177</th>\n",
       "    </tr>\n",
       "  </thead>\n",
       "  <tbody>\n",
       "    <tr>\n",
       "      <th>0</th>\n",
       "      <td>0.00</td>\n",
       "      <td>31.27</td>\n",
       "      <td>122.83</td>\n",
       "      <td>415.25</td>\n",
       "      <td>330.17</td>\n",
       "      <td>385.30</td>\n",
       "      <td>227.13</td>\n",
       "      <td>230.09</td>\n",
       "      <td>36.12</td>\n",
       "      <td>35.27</td>\n",
       "      <td>...</td>\n",
       "      <td>315.93</td>\n",
       "      <td>435.39</td>\n",
       "      <td>555.90</td>\n",
       "      <td>596.46</td>\n",
       "      <td>406.66</td>\n",
       "      <td>326.66</td>\n",
       "      <td>316.11</td>\n",
       "      <td>230.24</td>\n",
       "      <td>225.22</td>\n",
       "      <td>506.06</td>\n",
       "    </tr>\n",
       "    <tr>\n",
       "      <th>1</th>\n",
       "      <td>31.27</td>\n",
       "      <td>0.00</td>\n",
       "      <td>135.22</td>\n",
       "      <td>430.25</td>\n",
       "      <td>315.67</td>\n",
       "      <td>400.21</td>\n",
       "      <td>240.06</td>\n",
       "      <td>245.98</td>\n",
       "      <td>6.79</td>\n",
       "      <td>7.83</td>\n",
       "      <td>...</td>\n",
       "      <td>300.38</td>\n",
       "      <td>420.44</td>\n",
       "      <td>540.08</td>\n",
       "      <td>580.26</td>\n",
       "      <td>390.25</td>\n",
       "      <td>310.24</td>\n",
       "      <td>300.27</td>\n",
       "      <td>216.22</td>\n",
       "      <td>211.21</td>\n",
       "      <td>490.24</td>\n",
       "    </tr>\n",
       "    <tr>\n",
       "      <th>2</th>\n",
       "      <td>122.83</td>\n",
       "      <td>135.22</td>\n",
       "      <td>0.00</td>\n",
       "      <td>295.26</td>\n",
       "      <td>450.33</td>\n",
       "      <td>265.26</td>\n",
       "      <td>105.21</td>\n",
       "      <td>111.83</td>\n",
       "      <td>140.15</td>\n",
       "      <td>140.07</td>\n",
       "      <td>...</td>\n",
       "      <td>435.08</td>\n",
       "      <td>555.17</td>\n",
       "      <td>675.03</td>\n",
       "      <td>715.18</td>\n",
       "      <td>525.13</td>\n",
       "      <td>445.08</td>\n",
       "      <td>435.04</td>\n",
       "      <td>350.57</td>\n",
       "      <td>345.56</td>\n",
       "      <td>625.07</td>\n",
       "    </tr>\n",
       "    <tr>\n",
       "      <th>3</th>\n",
       "      <td>415.25</td>\n",
       "      <td>430.25</td>\n",
       "      <td>295.26</td>\n",
       "      <td>0.00</td>\n",
       "      <td>745.04</td>\n",
       "      <td>30.09</td>\n",
       "      <td>190.80</td>\n",
       "      <td>185.20</td>\n",
       "      <td>435.31</td>\n",
       "      <td>435.26</td>\n",
       "      <td>...</td>\n",
       "      <td>730.10</td>\n",
       "      <td>850.05</td>\n",
       "      <td>970.17</td>\n",
       "      <td>1010.38</td>\n",
       "      <td>820.31</td>\n",
       "      <td>740.25</td>\n",
       "      <td>730.12</td>\n",
       "      <td>645.07</td>\n",
       "      <td>640.06</td>\n",
       "      <td>920.20</td>\n",
       "    </tr>\n",
       "    <tr>\n",
       "      <th>4</th>\n",
       "      <td>330.17</td>\n",
       "      <td>315.67</td>\n",
       "      <td>450.33</td>\n",
       "      <td>745.04</td>\n",
       "      <td>0.00</td>\n",
       "      <td>715.05</td>\n",
       "      <td>555.48</td>\n",
       "      <td>560.02</td>\n",
       "      <td>310.80</td>\n",
       "      <td>310.70</td>\n",
       "      <td>...</td>\n",
       "      <td>20.78</td>\n",
       "      <td>105.37</td>\n",
       "      <td>226.11</td>\n",
       "      <td>267.01</td>\n",
       "      <td>79.95</td>\n",
       "      <td>24.15</td>\n",
       "      <td>22.42</td>\n",
       "      <td>100.25</td>\n",
       "      <td>105.18</td>\n",
       "      <td>176.51</td>\n",
       "    </tr>\n",
       "    <tr>\n",
       "      <th>...</th>\n",
       "      <td>...</td>\n",
       "      <td>...</td>\n",
       "      <td>...</td>\n",
       "      <td>...</td>\n",
       "      <td>...</td>\n",
       "      <td>...</td>\n",
       "      <td>...</td>\n",
       "      <td>...</td>\n",
       "      <td>...</td>\n",
       "      <td>...</td>\n",
       "      <td>...</td>\n",
       "      <td>...</td>\n",
       "      <td>...</td>\n",
       "      <td>...</td>\n",
       "      <td>...</td>\n",
       "      <td>...</td>\n",
       "      <td>...</td>\n",
       "      <td>...</td>\n",
       "      <td>...</td>\n",
       "      <td>...</td>\n",
       "      <td>...</td>\n",
       "    </tr>\n",
       "    <tr>\n",
       "      <th>173</th>\n",
       "      <td>326.66</td>\n",
       "      <td>310.24</td>\n",
       "      <td>445.08</td>\n",
       "      <td>740.25</td>\n",
       "      <td>24.15</td>\n",
       "      <td>710.24</td>\n",
       "      <td>550.06</td>\n",
       "      <td>555.64</td>\n",
       "      <td>305.13</td>\n",
       "      <td>305.10</td>\n",
       "      <td>...</td>\n",
       "      <td>15.06</td>\n",
       "      <td>111.41</td>\n",
       "      <td>230.04</td>\n",
       "      <td>270.18</td>\n",
       "      <td>80.19</td>\n",
       "      <td>0.00</td>\n",
       "      <td>12.60</td>\n",
       "      <td>98.28</td>\n",
       "      <td>103.14</td>\n",
       "      <td>180.06</td>\n",
       "    </tr>\n",
       "    <tr>\n",
       "      <th>174</th>\n",
       "      <td>316.11</td>\n",
       "      <td>300.27</td>\n",
       "      <td>435.04</td>\n",
       "      <td>730.12</td>\n",
       "      <td>22.42</td>\n",
       "      <td>700.13</td>\n",
       "      <td>540.11</td>\n",
       "      <td>545.37</td>\n",
       "      <td>295.21</td>\n",
       "      <td>295.14</td>\n",
       "      <td>...</td>\n",
       "      <td>3.89</td>\n",
       "      <td>120.44</td>\n",
       "      <td>240.12</td>\n",
       "      <td>280.50</td>\n",
       "      <td>90.77</td>\n",
       "      <td>12.60</td>\n",
       "      <td>0.00</td>\n",
       "      <td>86.99</td>\n",
       "      <td>91.86</td>\n",
       "      <td>190.11</td>\n",
       "    </tr>\n",
       "    <tr>\n",
       "      <th>175</th>\n",
       "      <td>230.24</td>\n",
       "      <td>216.22</td>\n",
       "      <td>350.57</td>\n",
       "      <td>645.07</td>\n",
       "      <td>100.25</td>\n",
       "      <td>615.10</td>\n",
       "      <td>455.71</td>\n",
       "      <td>460.05</td>\n",
       "      <td>211.44</td>\n",
       "      <td>211.26</td>\n",
       "      <td>...</td>\n",
       "      <td>86.46</td>\n",
       "      <td>205.23</td>\n",
       "      <td>325.93</td>\n",
       "      <td>366.59</td>\n",
       "      <td>177.40</td>\n",
       "      <td>98.28</td>\n",
       "      <td>86.99</td>\n",
       "      <td>0.00</td>\n",
       "      <td>5.36</td>\n",
       "      <td>276.09</td>\n",
       "    </tr>\n",
       "    <tr>\n",
       "      <th>176</th>\n",
       "      <td>225.22</td>\n",
       "      <td>211.21</td>\n",
       "      <td>345.56</td>\n",
       "      <td>640.06</td>\n",
       "      <td>105.18</td>\n",
       "      <td>610.09</td>\n",
       "      <td>450.70</td>\n",
       "      <td>455.04</td>\n",
       "      <td>206.44</td>\n",
       "      <td>206.26</td>\n",
       "      <td>...</td>\n",
       "      <td>91.36</td>\n",
       "      <td>210.22</td>\n",
       "      <td>330.90</td>\n",
       "      <td>371.56</td>\n",
       "      <td>182.32</td>\n",
       "      <td>103.14</td>\n",
       "      <td>91.86</td>\n",
       "      <td>5.36</td>\n",
       "      <td>0.00</td>\n",
       "      <td>281.07</td>\n",
       "    </tr>\n",
       "    <tr>\n",
       "      <th>177</th>\n",
       "      <td>506.06</td>\n",
       "      <td>490.24</td>\n",
       "      <td>625.07</td>\n",
       "      <td>920.20</td>\n",
       "      <td>176.51</td>\n",
       "      <td>890.20</td>\n",
       "      <td>730.09</td>\n",
       "      <td>735.48</td>\n",
       "      <td>485.15</td>\n",
       "      <td>485.10</td>\n",
       "      <td>...</td>\n",
       "      <td>190.22</td>\n",
       "      <td>71.82</td>\n",
       "      <td>50.50</td>\n",
       "      <td>90.73</td>\n",
       "      <td>100.24</td>\n",
       "      <td>180.06</td>\n",
       "      <td>190.11</td>\n",
       "      <td>276.09</td>\n",
       "      <td>281.07</td>\n",
       "      <td>0.00</td>\n",
       "    </tr>\n",
       "  </tbody>\n",
       "</table>\n",
       "<p>178 rows × 178 columns</p>\n",
       "</div>"
      ],
      "text/plain": [
       "        0       1       2       3       4       5       6       7       8    \\\n",
       "0      0.00   31.27  122.83  415.25  330.17  385.30  227.13  230.09   36.12   \n",
       "1     31.27    0.00  135.22  430.25  315.67  400.21  240.06  245.98    6.79   \n",
       "2    122.83  135.22    0.00  295.26  450.33  265.26  105.21  111.83  140.15   \n",
       "3    415.25  430.25  295.26    0.00  745.04   30.09  190.80  185.20  435.31   \n",
       "4    330.17  315.67  450.33  745.04    0.00  715.05  555.48  560.02  310.80   \n",
       "..      ...     ...     ...     ...     ...     ...     ...     ...     ...   \n",
       "173  326.66  310.24  445.08  740.25   24.15  710.24  550.06  555.64  305.13   \n",
       "174  316.11  300.27  435.04  730.12   22.42  700.13  540.11  545.37  295.21   \n",
       "175  230.24  216.22  350.57  645.07  100.25  615.10  455.71  460.05  211.44   \n",
       "176  225.22  211.21  345.56  640.06  105.18  610.09  450.70  455.04  206.44   \n",
       "177  506.06  490.24  625.07  920.20  176.51  890.20  730.09  735.48  485.15   \n",
       "\n",
       "        9    ...     168     169     170      171     172     173     174  \\\n",
       "0     35.27  ...  315.93  435.39  555.90   596.46  406.66  326.66  316.11   \n",
       "1      7.83  ...  300.38  420.44  540.08   580.26  390.25  310.24  300.27   \n",
       "2    140.07  ...  435.08  555.17  675.03   715.18  525.13  445.08  435.04   \n",
       "3    435.26  ...  730.10  850.05  970.17  1010.38  820.31  740.25  730.12   \n",
       "4    310.70  ...   20.78  105.37  226.11   267.01   79.95   24.15   22.42   \n",
       "..      ...  ...     ...     ...     ...      ...     ...     ...     ...   \n",
       "173  305.10  ...   15.06  111.41  230.04   270.18   80.19    0.00   12.60   \n",
       "174  295.14  ...    3.89  120.44  240.12   280.50   90.77   12.60    0.00   \n",
       "175  211.26  ...   86.46  205.23  325.93   366.59  177.40   98.28   86.99   \n",
       "176  206.26  ...   91.36  210.22  330.90   371.56  182.32  103.14   91.86   \n",
       "177  485.10  ...  190.22   71.82   50.50    90.73  100.24  180.06  190.11   \n",
       "\n",
       "        175     176     177  \n",
       "0    230.24  225.22  506.06  \n",
       "1    216.22  211.21  490.24  \n",
       "2    350.57  345.56  625.07  \n",
       "3    645.07  640.06  920.20  \n",
       "4    100.25  105.18  176.51  \n",
       "..      ...     ...     ...  \n",
       "173   98.28  103.14  180.06  \n",
       "174   86.99   91.86  190.11  \n",
       "175    0.00    5.36  276.09  \n",
       "176    5.36    0.00  281.07  \n",
       "177  276.09  281.07    0.00  \n",
       "\n",
       "[178 rows x 178 columns]"
      ]
     },
     "execution_count": 301,
     "metadata": {},
     "output_type": "execute_result"
    }
   ],
   "source": [
    "x2 = np.sum(X**2, axis=1).reshape(-1,  1)\n",
    "y2 = np.sum(X**2, axis=1).reshape( 1, -1)\n",
    "xy = X @ X.T\n",
    "\n",
    "print(x2.shape)\n",
    "print(xy.shape)\n",
    "print(y2.shape)\n",
    "\n",
    "dist = np.sqrt(x2 - 2*xy + y2)\n",
    "\n",
    "pd.DataFrame(dist).round(2)"
   ]
  },
  {
   "cell_type": "code",
   "execution_count": 285,
   "metadata": {},
   "outputs": [
    {
     "data": {
      "text/plain": [
       "array([0, 0, 0, 0, 0, 0, 0, 0, 0, 0, 0, 0, 0, 0, 0, 0, 0, 0, 0, 0, 0, 0,\n",
       "       0, 0, 0, 0, 0, 0, 0, 0, 0, 0, 0, 0, 0, 0, 0, 0, 0, 0, 0, 0, 0, 0,\n",
       "       0, 0, 0, 0, 0, 0, 0, 0, 0, 0, 0, 0, 0, 0, 0, 0, 0, 0, 0, 0, 0, 0,\n",
       "       0, 0, 0, 0, 0, 0, 0, 0, 0, 0, 0, 0, 0, 0, 0, 0, 0, 0, 0, 0, 0, 0,\n",
       "       0, 0, 0, 0, 0, 0, 0, 0, 0, 0, 0, 0, 0, 0, 0, 0, 0, 0, 0, 0, 0, 0,\n",
       "       0, 0, 0, 0, 0, 0, 1, 0, 0, 0, 0, 0, 0, 0, 0, 0, 0, 0, 0, 0, 0, 0,\n",
       "       0, 0, 0, 0, 0, 0, 0, 0, 0, 0, 0, 0, 0, 0, 0, 0, 0, 0, 0, 0, 0, 0,\n",
       "       0, 0, 0, 0, 0, 0, 0, 0, 0, 0, 0, 0, 0, 0, 0, 0, 0, 0, 0, 0, 0, 0,\n",
       "       0, 0])"
      ]
     },
     "execution_count": 285,
     "metadata": {},
     "output_type": "execute_result"
    }
   ],
   "source": [
    "sum(x2 - 2 * (X @ X.T) + y2 < 0)"
   ]
  },
  {
   "cell_type": "code",
   "execution_count": 311,
   "metadata": {},
   "outputs": [
    {
     "data": {
      "text/plain": [
       "array([[116]])"
      ]
     },
     "execution_count": 311,
     "metadata": {},
     "output_type": "execute_result"
    }
   ],
   "source": [
    "np.argwhere(sum(x2 - 2*xy + y2 < 0))"
   ]
  },
  {
   "cell_type": "code",
   "execution_count": 313,
   "metadata": {},
   "outputs": [
    {
     "data": {
      "text/plain": [
       "array([[     0.    ,    977.501 ,  15087.4924, ...,  53010.4682,\n",
       "         50721.8791, 256096.0836],\n",
       "       [   977.501 ,      0.    ,  18285.7176, ...,  46751.6212,\n",
       "         44611.1589, 240330.6182],\n",
       "       [ 15087.4924,  18285.7176,      0.    , ..., 122900.1578,\n",
       "        119413.5463, 390712.7272],\n",
       "       ...,\n",
       "       [ 53010.4682,  46751.6212, 122900.1578, ...,      0.    ,\n",
       "            28.7177,  76223.4878],\n",
       "       [ 50721.8791,  44611.1589, 119413.5463, ...,     28.7177,\n",
       "             0.    ,  78999.7785],\n",
       "       [256096.0836, 240330.6182, 390712.7272, ...,  76223.4878,\n",
       "         78999.7785,      0.    ]])"
      ]
     },
     "execution_count": 313,
     "metadata": {},
     "output_type": "execute_result"
    }
   ],
   "source": [
    "distsq = x2 - 2*xy + y2\n",
    "distsq"
   ]
  },
  {
   "cell_type": "code",
   "execution_count": null,
   "metadata": {},
   "outputs": [
    {
     "data": {
      "text/plain": [
       "array([[116]])"
      ]
     },
     "metadata": {},
     "output_type": "display_data"
    }
   ],
   "source": [
    "np.argwhere(distsq[116] < 0)"
   ]
  },
  {
   "cell_type": "code",
   "execution_count": null,
   "metadata": {},
   "outputs": [
    {
     "data": {
      "text/plain": [
       "-5.820766091346741e-11"
      ]
     },
     "metadata": {},
     "output_type": "display_data"
    }
   ],
   "source": [
    "distsq[116,116]"
   ]
  },
  {
   "cell_type": "code",
   "execution_count": 317,
   "metadata": {},
   "outputs": [
    {
     "data": {
      "text/plain": [
       "-0.0"
      ]
     },
     "execution_count": 317,
     "metadata": {},
     "output_type": "execute_result"
    }
   ],
   "source": [
    "np.sqrt(-0.)"
   ]
  },
  {
   "cell_type": "code",
   "execution_count": 323,
   "metadata": {},
   "outputs": [
    {
     "data": {
      "text/plain": [
       "True"
      ]
     },
     "execution_count": 323,
     "metadata": {},
     "output_type": "execute_result"
    }
   ],
   "source": [
    "-0. == 0"
   ]
  },
  {
   "cell_type": "markdown",
   "metadata": {},
   "source": [
    "---"
   ]
  },
  {
   "cell_type": "markdown",
   "metadata": {},
   "source": [
    "## Resources"
   ]
  },
  {
   "cell_type": "markdown",
   "metadata": {},
   "source": [
    "* [ [rp](https://realpython.com/knn-python/) ] Korstanje, Joos. (07 Apr 2021). \"The k-Nearest Neighbors (kNN) Algorithm in Python\". RealPython.\n",
    "* [ [a](https://jaykmody.com/blog/distance-matrices-with-numpy/) ] Mody, Jay. (04 Apr 2021). \"Computing Distance Matrices with NumPy\".\n",
    "* https://numerics.mathdotnet.com/Distance\n",
    "* http://cs231n.stanford.edu/"
   ]
  },
  {
   "cell_type": "markdown",
   "metadata": {},
   "source": [
    "---"
   ]
  },
  {
   "cell_type": "markdown",
   "metadata": {},
   "source": [
    "## Terms"
   ]
  },
  {
   "cell_type": "markdown",
   "metadata": {},
   "source": [
    "* [ [w](https://en.wikipedia.org/wiki/Distance_matrix) ] Distance Matrix\n",
    "* [ [w](https://en.wikipedia.org/wiki/Euclidean_distance) ] Euclidean Distance\n",
    "* [ [w](https://en.wikipedia.org/wiki/Hadamard_product_(matrices)) ] Hadamard Product\n",
    "* [ [w](https://en.wikipedia.org/wiki/Norm_(mathematics)) ] Norm"
   ]
  },
  {
   "cell_type": "markdown",
   "metadata": {},
   "source": [
    "---"
   ]
  }
 ],
 "metadata": {
  "kernelspec": {
   "display_name": "ml",
   "language": "python",
   "name": "python3"
  },
  "language_info": {
   "codemirror_mode": {
    "name": "ipython",
    "version": 3
   },
   "file_extension": ".py",
   "mimetype": "text/x-python",
   "name": "python",
   "nbconvert_exporter": "python",
   "pygments_lexer": "ipython3",
   "version": "3.11.4"
  },
  "orig_nbformat": 4
 },
 "nbformat": 4,
 "nbformat_minor": 2
}
