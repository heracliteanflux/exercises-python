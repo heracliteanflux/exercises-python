{
 "cells": [
  {
   "cell_type": "markdown",
   "metadata": {},
   "source": [
    "# NumPy Tutorial - Saving and sharing your NumPy arrays"
   ]
  },
  {
   "cell_type": "markdown",
   "metadata": {},
   "source": [
    "---"
   ]
  },
  {
   "cell_type": "code",
   "execution_count": 12,
   "metadata": {},
   "outputs": [
    {
     "name": "stdout",
     "output_type": "stream",
     "text": [
      "\n",
      "Executed             : 2023-09-04 20:43:46 -0400 EDT\n",
      "Platform             : macOS-13.5.1-arm64-arm-64bit\n",
      "Conda                : ml\n",
      "Python               : CPython 3.11.5 /Users/df/anaconda3/envs/ml/bin/python\n",
      "NumPy                : 1.23.5\n"
     ]
    }
   ],
   "source": [
    "import numpy as np\n",
    "\n",
    "import datetime\n",
    "from   importlib.metadata import version\n",
    "import os\n",
    "import platform as p\n",
    "import sys\n",
    "\n",
    "pad = 20\n",
    "print(  f\"\\n{'Executed' : <{pad}} : {datetime.datetime.now().astimezone().strftime('%Y-%m-%d %H:%M:%S %z %Z')}\"\n",
    "        f\"\\n{'Platform' : <{pad}} : {p.platform(aliased = False, terse = False)}\"\n",
    "        f\"\\n{'Conda'    : <{pad}} : {os.environ['CONDA_DEFAULT_ENV'] or sys.executable.split('/')[-3]}\"\n",
    "        f\"\\n{'Python'   : <{pad}} : {p.python_implementation()} {p.python_version()} {sys.executable}\")\n",
    "print(*[f'{name : <{pad}} : {version(name)}'\n",
    "        for name in ['NumPy']], sep = '\\n')"
   ]
  },
  {
   "cell_type": "markdown",
   "metadata": {},
   "source": [
    "---"
   ]
  },
  {
   "cell_type": "code",
   "execution_count": 2,
   "metadata": {},
   "outputs": [
    {
     "data": {
      "text/plain": [
       "array([0, 1, 2, 3, 4, 5, 6, 7, 8, 9])"
      ]
     },
     "execution_count": 2,
     "metadata": {},
     "output_type": "execute_result"
    }
   ],
   "source": [
    "x = np.arange(10)\n",
    "x"
   ]
  },
  {
   "cell_type": "code",
   "execution_count": 3,
   "metadata": {},
   "outputs": [
    {
     "data": {
      "text/plain": [
       "array([ 0,  1,  4,  9, 16, 25, 36, 49, 64, 81])"
      ]
     },
     "execution_count": 3,
     "metadata": {},
     "output_type": "execute_result"
    }
   ],
   "source": [
    "y = x ** 2\n",
    "y"
   ]
  },
  {
   "cell_type": "code",
   "execution_count": 4,
   "metadata": {},
   "outputs": [],
   "source": [
    "np.savez(file = 'x_y-squared.npz', x_axis = x, y_axis = y)"
   ]
  },
  {
   "cell_type": "code",
   "execution_count": 5,
   "metadata": {},
   "outputs": [],
   "source": [
    "del x, y"
   ]
  },
  {
   "cell_type": "code",
   "execution_count": 6,
   "metadata": {},
   "outputs": [
    {
     "name": "stdout",
     "output_type": "stream",
     "text": [
      "Variable   Type        Data/Info\n",
      "--------------------------------\n",
      "datetime   module      <module 'datetime' from '<...>/python3.11/datetime.py'>\n",
      "np         module      <module 'numpy' from '/Us<...>kages/numpy/__init__.py'>\n",
      "os         module      <module 'os' (frozen)>\n",
      "p          module      <module 'platform' from '<...>/python3.11/platform.py'>\n",
      "pad        int         20\n",
      "sys        module      <module 'sys' (built-in)>\n",
      "version    function    <function version at 0x1076704a0>\n"
     ]
    }
   ],
   "source": [
    "%whos"
   ]
  },
  {
   "cell_type": "code",
   "execution_count": 7,
   "metadata": {},
   "outputs": [
    {
     "data": {
      "text/plain": [
       "['x_axis', 'y_axis']"
      ]
     },
     "execution_count": 7,
     "metadata": {},
     "output_type": "execute_result"
    }
   ],
   "source": [
    "load_xy = np.load(file = 'x_y-squared.npz')\n",
    "load_xy.files"
   ]
  },
  {
   "cell_type": "code",
   "execution_count": 8,
   "metadata": {},
   "outputs": [
    {
     "name": "stdout",
     "output_type": "stream",
     "text": [
      "Variable   Type        Data/Info\n",
      "--------------------------------\n",
      "datetime   module      <module 'datetime' from '<...>/python3.11/datetime.py'>\n",
      "load_xy    NpzFile     NpzFile 'x_y-squared.npz'<...>with keys: x_axis, y_axis\n",
      "np         module      <module 'numpy' from '/Us<...>kages/numpy/__init__.py'>\n",
      "os         module      <module 'os' (frozen)>\n",
      "p          module      <module 'platform' from '<...>/python3.11/platform.py'>\n",
      "pad        int         20\n",
      "sys        module      <module 'sys' (built-in)>\n",
      "version    function    <function version at 0x1076704a0>\n"
     ]
    }
   ],
   "source": [
    "whos"
   ]
  },
  {
   "cell_type": "code",
   "execution_count": 9,
   "metadata": {},
   "outputs": [
    {
     "data": {
      "text/plain": [
       "array([0, 1, 2, 3, 4, 5, 6, 7, 8, 9])"
      ]
     },
     "execution_count": 9,
     "metadata": {},
     "output_type": "execute_result"
    }
   ],
   "source": [
    "x = load_xy['x_axis']\n",
    "x"
   ]
  },
  {
   "cell_type": "code",
   "execution_count": 10,
   "metadata": {},
   "outputs": [
    {
     "data": {
      "text/plain": [
       "array([ 0,  1,  4,  9, 16, 25, 36, 49, 64, 81])"
      ]
     },
     "execution_count": 10,
     "metadata": {},
     "output_type": "execute_result"
    }
   ],
   "source": [
    "y = load_xy['y_axis']\n",
    "y"
   ]
  },
  {
   "cell_type": "markdown",
   "metadata": {},
   "source": [
    "---"
   ]
  },
  {
   "cell_type": "code",
   "execution_count": null,
   "metadata": {},
   "outputs": [],
   "source": []
  },
  {
   "cell_type": "markdown",
   "metadata": {},
   "source": [
    "---"
   ]
  }
 ],
 "metadata": {
  "kernelspec": {
   "display_name": "ml",
   "language": "python",
   "name": "python3"
  },
  "language_info": {
   "codemirror_mode": {
    "name": "ipython",
    "version": 3
   },
   "file_extension": ".py",
   "mimetype": "text/x-python",
   "name": "python",
   "nbconvert_exporter": "python",
   "pygments_lexer": "ipython3",
   "version": "3.11.5"
  },
  "orig_nbformat": 4
 },
 "nbformat": 4,
 "nbformat_minor": 2
}
