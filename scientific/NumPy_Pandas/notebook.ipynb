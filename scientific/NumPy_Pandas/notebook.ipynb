{
 "cells": [
  {
   "cell_type": "markdown",
   "metadata": {},
   "source": [
    "# NumPy & Pandas"
   ]
  },
  {
   "cell_type": "markdown",
   "metadata": {},
   "source": [
    "---"
   ]
  },
  {
   "cell_type": "markdown",
   "metadata": {},
   "source": [
    "## Programming Environment"
   ]
  },
  {
   "cell_type": "code",
   "execution_count": 21,
   "metadata": {},
   "outputs": [
    {
     "name": "stdout",
     "output_type": "stream",
     "text": [
      "\n",
      "Executed             : 2023-09-04 18:33:25 -0400 EDT\n",
      "Platform             : macOS-13.5.1-arm64-arm-64bit\n",
      "Conda                : ml\n",
      "Python               : CPython 3.11.5 /Users/df/anaconda3/envs/ml/bin/python\n",
      "IPython              : 8.15.0\n",
      "Matplotlib           : 3.7.2\n",
      "NumPy                : 1.23.5\n",
      "Pandas               : 2.1.0\n"
     ]
    }
   ],
   "source": [
    "import numpy        as np\n",
    "np.set_printoptions(suppress=True)\n",
    "import numpy.random as npr\n",
    "from   numpy.random import default_rng\n",
    "rng = default_rng()\n",
    "\n",
    "import pandas           as pd\n",
    "from   pandas.api.types import is_numeric_dtype\n",
    "from   pandas.plotting  import parallel_coordinates\n",
    "\n",
    "# https://pandas.pydata.org/docs/user_guide/options.html#number-formatting\n",
    "pd.set_option('display.float_format', lambda x: f'{x:0.5}') # suppress scientific notation in Pandas output\n",
    "#pd.reset_option('display.float_format')\n",
    "#pd.reset_option('^display.', silent=True)\n",
    "\n",
    "iris = pd.read_csv(filepath_or_buffer = 'https://archive.ics.uci.edu/ml/machine-learning-databases/iris/iris.data',\n",
    "                   header = None)\n",
    "iris.columns = [\n",
    "  'sepal length',\n",
    "  'sepal width',\n",
    "  'petal length',\n",
    "  'petal width',\n",
    "  'class',\n",
    "]\n",
    "iris_numeric = iris.loc[:, [is_numeric_dtype(iris[col]) for col in iris.columns]]\n",
    "\n",
    "import matplotlib           as mpl\n",
    "from   matplotlib           import cm, gridspec\n",
    "from   matplotlib.patches   import Ellipse\n",
    "import matplotlib.pyplot    as plt\n",
    "from   matplotlib.ticker    import LinearLocator\n",
    "from   mpl_toolkits.mplot3d import axes3d\n",
    "from   ipywidgets           import interactive\n",
    "mpl.rcParams['lines.color']     = 'k'\n",
    "mpl.rcParams['axes.prop_cycle'] = mpl.cycler('color',['k'])\n",
    "plt.rcParams.update({'text.usetex' : True});\n",
    "# mpl.projections.get_projection_names()\n",
    "# plt.style.available\n",
    "plt.style.use('ggplot');\n",
    "# %matplotlib inline\n",
    "# %matplotlib widget\n",
    "\n",
    "from IPython.display import display, Math\n",
    "\n",
    "import datetime\n",
    "from   importlib.metadata import version\n",
    "import os\n",
    "import platform as p\n",
    "import sys\n",
    "\n",
    "pad = 20\n",
    "print(  f\"\\n{'Executed' : <{pad}} : {datetime.datetime.now().astimezone().strftime('%Y-%m-%d %H:%M:%S %z %Z')}\"\n",
    "        f\"\\n{'Platform' : <{pad}} : {p.platform(aliased = False, terse = False)}\"\n",
    "        f\"\\n{'Conda'    : <{pad}} : {os.environ['CONDA_DEFAULT_ENV'] or sys.executable.split('/')[-3]}\"\n",
    "        f\"\\n{'Python'   : <{pad}} : {p.python_implementation()} {p.python_version()} {sys.executable}\")\n",
    "print(*[f'{name : <{pad}} : {version(name)}'\n",
    "        for name in ['IPython', 'Matplotlib', 'NumPy', 'Pandas']], sep = '\\n')"
   ]
  },
  {
   "cell_type": "markdown",
   "metadata": {},
   "source": [
    "---"
   ]
  },
  {
   "cell_type": "markdown",
   "metadata": {},
   "source": [
    "## NumPy"
   ]
  },
  {
   "cell_type": "markdown",
   "metadata": {},
   "source": [
    "---"
   ]
  },
  {
   "cell_type": "code",
   "execution_count": 3,
   "metadata": {},
   "outputs": [
    {
     "data": {
      "text/plain": [
       "array([0, 1, 2, 3, 4])"
      ]
     },
     "execution_count": 3,
     "metadata": {},
     "output_type": "execute_result"
    }
   ],
   "source": [
    "a = np.array(range(5))\n",
    "a"
   ]
  },
  {
   "cell_type": "code",
   "execution_count": 4,
   "metadata": {},
   "outputs": [
    {
     "name": "stdout",
     "output_type": "stream",
     "text": [
      "class:  ndarray\n",
      "shape:  (5,)\n",
      "strides:  (8,)\n",
      "itemsize:  8\n",
      "aligned:  True\n",
      "contiguous:  True\n",
      "fortran:  True\n",
      "data pointer: 0x106010c60\n",
      "byteorder:  little\n",
      "byteswap:  False\n",
      "type: int64\n"
     ]
    }
   ],
   "source": [
    "np.info(a)"
   ]
  },
  {
   "cell_type": "code",
   "execution_count": 17,
   "metadata": {},
   "outputs": [
    {
     "data": {
      "text/plain": [
       "5"
      ]
     },
     "execution_count": 17,
     "metadata": {},
     "output_type": "execute_result"
    }
   ],
   "source": [
    "a.size"
   ]
  },
  {
   "cell_type": "code",
   "execution_count": null,
   "metadata": {},
   "outputs": [
    {
     "data": {
      "text/plain": [
       "5"
      ]
     },
     "metadata": {},
     "output_type": "display_data"
    }
   ],
   "source": [
    "len(a)"
   ]
  },
  {
   "cell_type": "code",
   "execution_count": 15,
   "metadata": {},
   "outputs": [
    {
     "data": {
      "text/plain": [
       "numpy.ndarray"
      ]
     },
     "execution_count": 15,
     "metadata": {},
     "output_type": "execute_result"
    }
   ],
   "source": [
    "a.__class__"
   ]
  },
  {
   "cell_type": "code",
   "execution_count": 5,
   "metadata": {},
   "outputs": [
    {
     "data": {
      "text/plain": [
       "numpy.ndarray"
      ]
     },
     "execution_count": 5,
     "metadata": {},
     "output_type": "execute_result"
    }
   ],
   "source": [
    "type(a)"
   ]
  },
  {
   "cell_type": "code",
   "execution_count": null,
   "metadata": {},
   "outputs": [
    {
     "data": {
      "text/plain": [
       "(5,)"
      ]
     },
     "metadata": {},
     "output_type": "display_data"
    }
   ],
   "source": [
    "a.shape"
   ]
  },
  {
   "cell_type": "code",
   "execution_count": null,
   "metadata": {},
   "outputs": [
    {
     "data": {
      "text/plain": [
       "(8,)"
      ]
     },
     "metadata": {},
     "output_type": "display_data"
    }
   ],
   "source": [
    "a.strides"
   ]
  },
  {
   "cell_type": "code",
   "execution_count": null,
   "metadata": {},
   "outputs": [
    {
     "data": {
      "text/plain": [
       "8"
      ]
     },
     "metadata": {},
     "output_type": "display_data"
    }
   ],
   "source": [
    "a.itemsize"
   ]
  },
  {
   "cell_type": "code",
   "execution_count": 7,
   "metadata": {},
   "outputs": [
    {
     "data": {
      "text/plain": [
       "dtype('int64')"
      ]
     },
     "execution_count": 7,
     "metadata": {},
     "output_type": "execute_result"
    }
   ],
   "source": [
    "a.dtype"
   ]
  },
  {
   "cell_type": "code",
   "execution_count": 9,
   "metadata": {},
   "outputs": [
    {
     "data": {
      "text/plain": [
       "1"
      ]
     },
     "execution_count": 9,
     "metadata": {},
     "output_type": "execute_result"
    }
   ],
   "source": [
    "a.ndim"
   ]
  },
  {
   "cell_type": "code",
   "execution_count": 12,
   "metadata": {},
   "outputs": [
    {
     "data": {
      "text/plain": [
       "40"
      ]
     },
     "execution_count": 12,
     "metadata": {},
     "output_type": "execute_result"
    }
   ],
   "source": [
    "a.nbytes"
   ]
  },
  {
   "cell_type": "markdown",
   "metadata": {},
   "source": [
    "---"
   ]
  },
  {
   "cell_type": "code",
   "execution_count": 2,
   "metadata": {},
   "outputs": [
    {
     "name": "stdout",
     "output_type": "stream",
     "text": [
      "Machine parameters for float32\n",
      "---------------------------------------------------------------\n",
      "precision =   6   resolution = 1.0000000e-06\n",
      "machep =    -23   eps =        1.1920929e-07\n",
      "negep =     -24   epsneg =     5.9604645e-08\n",
      "minexp =   -126   tiny =       1.1754944e-38\n",
      "maxexp =    128   max =        3.4028235e+38\n",
      "nexp =        8   min =        -max\n",
      "smallest_normal = 1.1754944e-38   smallest_subnormal = 1.4012985e-45\n",
      "---------------------------------------------------------------\n",
      "\n",
      "Machine parameters for float64\n",
      "---------------------------------------------------------------\n",
      "precision =  15   resolution = 1.0000000000000001e-15\n",
      "machep =    -52   eps =        2.2204460492503131e-16\n",
      "negep =     -53   epsneg =     1.1102230246251565e-16\n",
      "minexp =  -1022   tiny =       2.2250738585072014e-308\n",
      "maxexp =   1024   max =        1.7976931348623157e+308\n",
      "nexp =       11   min =        -max\n",
      "smallest_normal = 2.2250738585072014e-308   smallest_subnormal = 4.9406564584124654e-324\n",
      "---------------------------------------------------------------\n",
      "\n",
      "Machine parameters for float64\n",
      "---------------------------------------------------------------\n",
      "precision =  15   resolution = 1.0000000000000001e-15\n",
      "machep =    -52   eps =        2.2204460492503131e-16\n",
      "negep =     -53   epsneg =     1.1102230246251565e-16\n",
      "minexp =  -1022   tiny =       2.2250738585072014e-308\n",
      "maxexp =   1024   max =        1.7976931348623157e+308\n",
      "nexp =       11   min =        -max\n",
      "smallest_normal = 2.2250738585072014e-308   smallest_subnormal = 4.9406564584124654e-324\n",
      "---------------------------------------------------------------\n",
      "\n",
      "Machine parameters for float64\n",
      "---------------------------------------------------------------\n",
      "precision =  15   resolution = 1.0000000000000001e-15\n",
      "machep =    -52   eps =        2.2204460492503131e-16\n",
      "negep =     -53   epsneg =     1.1102230246251565e-16\n",
      "minexp =  -1022   tiny =       2.2250738585072014e-308\n",
      "maxexp =   1024   max =        1.7976931348623157e+308\n",
      "nexp =       11   min =        -max\n",
      "smallest_normal = 2.2250738585072014e-308   smallest_subnormal = 4.9406564584124654e-324\n",
      "---------------------------------------------------------------\n",
      "\n"
     ]
    }
   ],
   "source": [
    "print(np.finfo(np.single))\n",
    "print(np.finfo(np.double))\n",
    "print(np.finfo(np.float64))\n",
    "print(np.finfo(np.longdouble))"
   ]
  },
  {
   "cell_type": "markdown",
   "metadata": {},
   "source": [
    "---"
   ]
  },
  {
   "cell_type": "markdown",
   "metadata": {},
   "source": [
    "## Resources"
   ]
  },
  {
   "cell_type": "markdown",
   "metadata": {},
   "source": [
    "* [ [rp](https://realpython.com/python-flatten-list/) ] Ramos, Leodanis. (26 Jun 2023). \"How to Flatten a List of Lists in Python\". RealPython.\n",
    "* [ [rp](https://realpython.com/numpy-random-number-generator/) ] Eyre, Ian. (05 Jun 2023). \"Using the NumPy Random Number Generator\". RealPython.\n",
    "* [ [rp](https://realpython.com/pandas-iterate-over-rows/) ] Currie, Ian. (30 Jan 2023). \"How to Iterate Over Rows in pandas, and Why You Shouldn't\". RealPython.\n",
    "* [ [rp](https://realpython.com/python-linear-algebra/) ] Candido, Renato. (23 Jan 2023). \"Linear Algebra in Python: Matrix Inverses and Least Squares\". RealPython.\n",
    "* [ [rp](https://realpython.com/python-scipy-linalg/) ] Candido, Renato. (18 Jan 2023). \"Working with Linear Systems in Python with scipy.linalg\". RealPython.\n",
    "* [ [rp](https://realpython.com/pandas-dataframe/) ] Stojiljković, Mirko. (22 Apr 2020). \"The pandas DataFrame: Make Working with Data Delightful\". RealPython.\n",
    "* [ [rp](https://realpython.com/python-random/) ] Solomon, Brad. (11 Jul 2018). \"Generating Random Data in Python (Guide)\". RealPython.\n",
    "* [ [rp](https://realpython.com/python-data-cleaning-numpy-pandas/) ] Agarwal, Malay. (26 Mar 2018). \"Pythonic Data Cleaning with pandas and NumPy\". RealPython."
   ]
  },
  {
   "cell_type": "markdown",
   "metadata": {},
   "source": [
    "---"
   ]
  }
 ],
 "metadata": {
  "kernelspec": {
   "display_name": "ml",
   "language": "python",
   "name": "python3"
  },
  "language_info": {
   "codemirror_mode": {
    "name": "ipython",
    "version": 3
   },
   "file_extension": ".py",
   "mimetype": "text/x-python",
   "name": "python",
   "nbconvert_exporter": "python",
   "pygments_lexer": "ipython3",
   "version": "3.11.5"
  },
  "orig_nbformat": 4
 },
 "nbformat": 4,
 "nbformat_minor": 2
}
