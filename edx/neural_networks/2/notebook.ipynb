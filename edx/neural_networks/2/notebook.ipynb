{
 "cells": [
  {
   "cell_type": "markdown",
   "metadata": {},
   "source": [
    "# Neural Networks"
   ]
  },
  {
   "cell_type": "markdown",
   "metadata": {},
   "source": [
    "---"
   ]
  },
  {
   "cell_type": "markdown",
   "metadata": {},
   "source": [
    "## Programming Environment"
   ]
  },
  {
   "cell_type": "markdown",
   "metadata": {},
   "source": [
    "* [Get started with tensorflow-metal](https://developer.apple.com/metal/tensorflow-plugin/)"
   ]
  },
  {
   "cell_type": "code",
   "execution_count": 1,
   "metadata": {},
   "outputs": [
    {
     "name": "stdout",
     "output_type": "stream",
     "text": [
      "\n",
      "Executed             : 2023-09-03 14:37:41 -0400 EDT\n",
      "Platform             : macOS-13.5.1-arm64-arm-64bit\n",
      "Conda                : ml\n",
      "Python               : CPython 3.11.4 /Users/df/anaconda3/envs/ml/bin/python\n",
      "Imbalanced-Learn     : 0.11.0\n",
      "Matplotlib           : 3.7.2\n",
      "NumPy                : 1.24.3\n",
      "Pandas               : 2.0.3\n",
      "Plotly               : 5.15.0\n",
      "Scikit-Learn         : 1.3.0\n",
      "TensorFlow           : 2.13.0\n"
     ]
    }
   ],
   "source": [
    "import numpy  as np\n",
    "import pandas as pd\n",
    "import matplotlib.pyplot as plt\n",
    "\n",
    "import sklearn\n",
    "import imblearn\n",
    "\n",
    "import tensorflow as tf\n",
    "\n",
    "import plotly\n",
    "\n",
    "import datetime\n",
    "from   importlib.metadata import version\n",
    "import os\n",
    "import platform as p\n",
    "import sys\n",
    "\n",
    "pad = 20\n",
    "print(  f\"\\n{'Executed' : <{pad}} : {datetime.datetime.now().astimezone().strftime('%Y-%m-%d %H:%M:%S %z %Z')}\"\n",
    "        f\"\\n{'Platform' : <{pad}} : {p.platform(aliased = False, terse = False)}\"\n",
    "        f\"\\n{'Conda'    : <{pad}} : {os.environ['CONDA_DEFAULT_ENV'] or sys.executable.split('/')[-3]}\"\n",
    "        f\"\\n{'Python'   : <{pad}} : {p.python_implementation()} {p.python_version()} {sys.executable}\")\n",
    "print(*[f'{name : <{pad}} : {version(name)}'\n",
    "        for name in ['Imbalanced-Learn', 'Matplotlib', 'NumPy', 'Pandas', 'Plotly', 'Scikit-Learn', 'TensorFlow']], sep = '\\n')"
   ]
  },
  {
   "cell_type": "markdown",
   "metadata": {},
   "source": [
    "---"
   ]
  },
  {
   "cell_type": "code",
   "execution_count": null,
   "metadata": {},
   "outputs": [],
   "source": []
  },
  {
   "cell_type": "markdown",
   "metadata": {},
   "source": [
    "---"
   ]
  }
 ],
 "metadata": {
  "kernelspec": {
   "display_name": "ml",
   "language": "python",
   "name": "python3"
  },
  "language_info": {
   "codemirror_mode": {
    "name": "ipython",
    "version": 3
   },
   "file_extension": ".py",
   "mimetype": "text/x-python",
   "name": "python",
   "nbconvert_exporter": "python",
   "pygments_lexer": "ipython3",
   "version": "3.11.4"
  },
  "orig_nbformat": 4
 },
 "nbformat": 4,
 "nbformat_minor": 2
}
