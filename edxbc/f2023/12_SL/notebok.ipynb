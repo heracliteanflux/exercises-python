{
 "cells": [
  {
   "attachments": {},
   "cell_type": "markdown",
   "metadata": {},
   "source": [
    "# Supervised Learning\n",
    "```{admonition} Revised\n",
    "31 May 2023\n",
    "```"
   ]
  },
  {
   "attachments": {},
   "cell_type": "markdown",
   "metadata": {},
   "source": [
    "---"
   ]
  },
  {
   "attachments": {},
   "cell_type": "markdown",
   "metadata": {},
   "source": [
    "## Programming Environment"
   ]
  },
  {
   "cell_type": "code",
   "execution_count": 1,
   "metadata": {
    "tags": [
     "hide-input"
    ]
   },
   "outputs": [
    {
     "name": "stdout",
     "output_type": "stream",
     "text": [
      "\n",
      "Executed             : 2023-09-04 17:36:14 -0400 EDT\n",
      "Platform             : macOS-13.5.1-arm64-arm-64bit\n",
      "Conda                : ml\n",
      "Python               : CPython 3.11.5 /Users/df/anaconda3/envs/ml/bin/python\n",
      "hvPlot               : 0.8.4\n",
      "Imbalanced-Learn     : 0.11.0\n",
      "Matplotlib           : 3.7.2\n",
      "NumPy                : 1.23.5\n",
      "Pandas               : 2.1.0\n",
      "Scikit-Learn         : 1.3.0\n"
     ]
    }
   ],
   "source": [
    "import numpy             as np\n",
    "np.set_printoptions(suppress=True, formatter={'float_kind' : '{:0.8f}'.format})\n",
    "import pandas            as pd\n",
    "pd.set_option('display.float_format', lambda x: f'{x:0.8f}')\n",
    "import matplotlib        as mpl\n",
    "import matplotlib.pyplot as plt\n",
    "\n",
    "import sklearn\n",
    "from   sklearn.linear_model    import LogisticRegression\n",
    "from   sklearn.metrics         import balanced_accuracy_score, confusion_matrix\n",
    "from   sklearn.model_selection import train_test_split\n",
    "import imblearn\n",
    "from   imblearn.metrics        import classification_report_imbalanced\n",
    "from   imblearn.over_sampling  import RandomOverSampler\n",
    "\n",
    "from   pathlib  import Path\n",
    "\n",
    "import datetime\n",
    "from   importlib.metadata import version\n",
    "import os\n",
    "import platform as p\n",
    "import sys\n",
    "\n",
    "pad = 20\n",
    "print(  f\"\\n{'Executed' : <{pad}} : {datetime.datetime.now().astimezone().strftime('%Y-%m-%d %H:%M:%S %z %Z')}\"\n",
    "        f\"\\n{'Platform' : <{pad}} : {p.platform(aliased = False, terse = False)}\"\n",
    "        f\"\\n{'Conda'    : <{pad}} : {os.environ['CONDA_DEFAULT_ENV'] or sys.executable.split('/')[-3]}\"\n",
    "        f\"\\n{'Python'   : <{pad}} : {p.python_implementation()} {p.python_version()} {sys.executable}\")\n",
    "print(*[f'{name : <{pad}} : {version(name)}'\n",
    "        for name in ['hvPlot', 'Imbalanced-Learn', 'Matplotlib', 'NumPy', 'Pandas', 'Scikit-Learn']], sep = '\\n')"
   ]
  },
  {
   "attachments": {},
   "cell_type": "markdown",
   "metadata": {},
   "source": [
    "---"
   ]
  },
  {
   "cell_type": "code",
   "execution_count": 3,
   "metadata": {},
   "outputs": [
    {
     "data": {
      "text/html": [
       "<div>\n",
       "<style scoped>\n",
       "    .dataframe tbody tr th:only-of-type {\n",
       "        vertical-align: middle;\n",
       "    }\n",
       "\n",
       "    .dataframe tbody tr th {\n",
       "        vertical-align: top;\n",
       "    }\n",
       "\n",
       "    .dataframe thead th {\n",
       "        text-align: right;\n",
       "    }\n",
       "</style>\n",
       "<table border=\"1\" class=\"dataframe\">\n",
       "  <thead>\n",
       "    <tr style=\"text-align: right;\">\n",
       "      <th></th>\n",
       "      <th>loan_size</th>\n",
       "      <th>interest_rate</th>\n",
       "      <th>borrower_income</th>\n",
       "      <th>debt_to_income</th>\n",
       "      <th>num_of_accounts</th>\n",
       "      <th>derogatory_marks</th>\n",
       "      <th>total_debt</th>\n",
       "      <th>loan_status</th>\n",
       "    </tr>\n",
       "  </thead>\n",
       "  <tbody>\n",
       "    <tr>\n",
       "      <th>0</th>\n",
       "      <td>10700.00000000</td>\n",
       "      <td>7.67200000</td>\n",
       "      <td>52800</td>\n",
       "      <td>0.43181818</td>\n",
       "      <td>5</td>\n",
       "      <td>1</td>\n",
       "      <td>22800</td>\n",
       "      <td>0</td>\n",
       "    </tr>\n",
       "    <tr>\n",
       "      <th>1</th>\n",
       "      <td>8400.00000000</td>\n",
       "      <td>6.69200000</td>\n",
       "      <td>43600</td>\n",
       "      <td>0.31192661</td>\n",
       "      <td>3</td>\n",
       "      <td>0</td>\n",
       "      <td>13600</td>\n",
       "      <td>0</td>\n",
       "    </tr>\n",
       "    <tr>\n",
       "      <th>2</th>\n",
       "      <td>9000.00000000</td>\n",
       "      <td>6.96300000</td>\n",
       "      <td>46100</td>\n",
       "      <td>0.34924078</td>\n",
       "      <td>3</td>\n",
       "      <td>0</td>\n",
       "      <td>16100</td>\n",
       "      <td>0</td>\n",
       "    </tr>\n",
       "    <tr>\n",
       "      <th>3</th>\n",
       "      <td>10700.00000000</td>\n",
       "      <td>7.66400000</td>\n",
       "      <td>52700</td>\n",
       "      <td>0.43074004</td>\n",
       "      <td>5</td>\n",
       "      <td>1</td>\n",
       "      <td>22700</td>\n",
       "      <td>0</td>\n",
       "    </tr>\n",
       "    <tr>\n",
       "      <th>4</th>\n",
       "      <td>10800.00000000</td>\n",
       "      <td>7.69800000</td>\n",
       "      <td>53000</td>\n",
       "      <td>0.43396226</td>\n",
       "      <td>5</td>\n",
       "      <td>1</td>\n",
       "      <td>23000</td>\n",
       "      <td>0</td>\n",
       "    </tr>\n",
       "  </tbody>\n",
       "</table>\n",
       "</div>"
      ],
      "text/plain": [
       "       loan_size  interest_rate  borrower_income  debt_to_income  \\\n",
       "0 10700.00000000     7.67200000            52800      0.43181818   \n",
       "1  8400.00000000     6.69200000            43600      0.31192661   \n",
       "2  9000.00000000     6.96300000            46100      0.34924078   \n",
       "3 10700.00000000     7.66400000            52700      0.43074004   \n",
       "4 10800.00000000     7.69800000            53000      0.43396226   \n",
       "\n",
       "   num_of_accounts  derogatory_marks  total_debt  loan_status  \n",
       "0                5                 1       22800            0  \n",
       "1                3                 0       13600            0  \n",
       "2                3                 0       16100            0  \n",
       "3                5                 1       22700            0  \n",
       "4                5                 1       23000            0  "
      ]
     },
     "execution_count": 3,
     "metadata": {},
     "output_type": "execute_result"
    }
   ],
   "source": [
    "lending_data_df = pd.read_csv(filepath_or_buffer='data/lending_data.csv')\n",
    "lending_data_df.head()"
   ]
  },
  {
   "cell_type": "code",
   "execution_count": 23,
   "metadata": {},
   "outputs": [
    {
     "name": "stdout",
     "output_type": "stream",
     "text": [
      "loan_status\n",
      "0    75036\n",
      "1     2500\n",
      "Name: count, dtype: int64\n",
      "\n",
      "0.9520479254722232\n",
      "\n",
      "[[18663   102]\n",
      " [   56   563]]\n",
      "\n",
      "                   pre       rec       spe        f1       geo       iba       sup\n",
      "\n",
      "          0       1.00      0.99      0.91      1.00      0.95      0.91     18765\n",
      "          1       0.85      0.91      0.99      0.88      0.95      0.90       619\n",
      "\n",
      "avg / total       0.99      0.99      0.91      0.99      0.95      0.91     19384\n",
      "\n",
      "loan_status\n",
      "0    56271\n",
      "1    56271\n",
      "Name: count, dtype: int64\n",
      "\n",
      "0.9936781215845847\n",
      "\n",
      "[[18649   116]\n",
      " [    4   615]]\n",
      "\n",
      "                   pre       rec       spe        f1       geo       iba       sup\n",
      "\n",
      "          0       1.00      0.99      0.99      1.00      0.99      0.99     18765\n",
      "          1       0.84      0.99      0.99      0.91      0.99      0.99       619\n",
      "\n",
      "avg / total       0.99      0.99      0.99      0.99      0.99      0.99     19384\n",
      "\n"
     ]
    }
   ],
   "source": [
    "X = lending_data_df.drop(columns=['loan_status'])\n",
    "y = lending_data_df.loan_status\n",
    "print(y.value_counts())\n",
    "\n",
    "X_train, X_test, y_train, y_test = train_test_split(X, y, random_state=1)\n",
    "\n",
    "lr_model = LogisticRegression(random_state=1)\n",
    "lr_model.fit(X=X_train, y=y_train)\n",
    "\n",
    "y_pred = lr_model.predict(X=X_test)\n",
    "\n",
    "print()\n",
    "print(balanced_accuracy_score(y_true=y_test,\n",
    "                              y_pred=y_pred))\n",
    "print()\n",
    "print(confusion_matrix(y_true=y_test,\n",
    "                       y_pred=y_pred))\n",
    "print()\n",
    "print(classification_report_imbalanced(y_true=y_test,\n",
    "                                       y_pred=y_pred))\n",
    "\n",
    "ros_model = RandomOverSampler(random_state=1)\n",
    "X_resampled, y_resampled = ros_model.fit_resample(X=X_train, y=y_train)\n",
    "print(y_resampled.value_counts())\n",
    "\n",
    "lro_model = LogisticRegression(random_state=1)\n",
    "lro_model.fit(X=X_resampled, y=y_resampled)\n",
    "\n",
    "yo_pred = lro_model.predict(X=X_test)\n",
    "\n",
    "print()\n",
    "print(balanced_accuracy_score(y_true=y_test,\n",
    "                              y_pred=yo_pred))\n",
    "\n",
    "print()\n",
    "print(confusion_matrix(y_true=y_test,\n",
    "                       y_pred=yo_pred))\n",
    "\n",
    "print()\n",
    "print(classification_report_imbalanced(y_true=y_test,\n",
    "                                       y_pred=yo_pred))"
   ]
  },
  {
   "attachments": {},
   "cell_type": "markdown",
   "metadata": {},
   "source": [
    "---"
   ]
  },
  {
   "attachments": {},
   "cell_type": "markdown",
   "metadata": {},
   "source": [
    "## Terms"
   ]
  },
  {
   "attachments": {},
   "cell_type": "markdown",
   "metadata": {},
   "source": [
    "* [[W](https://en.wikipedia.org/wiki/Accuracy_and_precision)] Accuracy\n",
    "* [[W](https://en.wikipedia.org/wiki/Statistical_classification)] Classification\n",
    "* [[W](https://en.wikipedia.org/wiki/Confusion_matrix)] Confusion Matrix\n",
    "* [[W](https://en.wikipedia.org/wiki/Cross-validation_(statistics))] Cross Validation\n",
    "* [[W](https://en.wikipedia.org/wiki/Ground_truth)] Ground Truth\n",
    "* [[W](https://en.wikipedia.org/wiki/Logistic_regression)] Logistic Regression\n",
    "* [[W](https://en.wikipedia.org/wiki/Oversampling_and_undersampling_in_data_analysis)] Oversampling\n",
    "* [[W](https://en.wikipedia.org/wiki/Accuracy_and_precision)] Precision\n",
    "* [[W](https://en.wikipedia.org/wiki/Precision_and_recall)] Recall\n",
    "* [[W](https://en.wikipedia.org/wiki/Sensitivity_and_specificity)] Sensitivity\n",
    "* [[W](https://en.wikipedia.org/wiki/Sensitivity_and_specificity)] Specificity\n",
    "* [[W](https://en.wikipedia.org/wiki/Supervised_learning)] Supervised Learning\n",
    "* [[W](https://en.wikipedia.org/wiki/Training,_validation,_and_test_data_sets)] Test Set\n",
    "* [[W](https://en.wikipedia.org/wiki/Training,_validation,_and_test_data_sets)] Training Set\n",
    "* [[W](https://en.wikipedia.org/wiki/Oversampling_and_undersampling_in_data_analysis)] Undersampling\n",
    "* [[W](https://en.wikipedia.org/wiki/Training,_validation,_and_test_data_sets)] Validation Set"
   ]
  },
  {
   "attachments": {},
   "cell_type": "markdown",
   "metadata": {},
   "source": [
    "---"
   ]
  }
 ],
 "metadata": {
  "kernelspec": {
   "display_name": "main",
   "language": "python",
   "name": "python3"
  },
  "language_info": {
   "codemirror_mode": {
    "name": "ipython",
    "version": 3
   },
   "file_extension": ".py",
   "mimetype": "text/x-python",
   "name": "python",
   "nbconvert_exporter": "python",
   "pygments_lexer": "ipython3",
   "version": "3.11.5"
  },
  "orig_nbformat": 4
 },
 "nbformat": 4,
 "nbformat_minor": 2
}
