{
 "cells": [
  {
   "cell_type": "markdown",
   "metadata": {},
   "source": [
    "# Student Loan Risk\n",
    "```{admonition} Revised\n",
    "25 Jul 2023\n",
    "```"
   ]
  },
  {
   "cell_type": "markdown",
   "metadata": {},
   "source": [
    "---"
   ]
  },
  {
   "cell_type": "markdown",
   "metadata": {},
   "source": [
    "## Programming Environment"
   ]
  },
  {
   "cell_type": "code",
   "execution_count": 1,
   "metadata": {},
   "outputs": [
    {
     "name": "stdout",
     "output_type": "stream",
     "text": [
      "\n",
      "Executed             : 2023-09-04 12:17:02 -0400 EDT\n",
      "Platform             : macOS-13.5.1-arm64-arm-64bit\n",
      "Conda                : tf\n",
      "Python               : CPython 3.11.5 /Users/df/anaconda3/envs/tf/bin/python\n",
      "NumPy                : 1.24.3\n",
      "Pandas               : 2.1.0\n",
      "Scikit-Learn         : 1.3.0\n",
      "TensorFlow-macos     : 2.13.0\n",
      "TensorFlow-metal     : 1.0.1\n"
     ]
    }
   ],
   "source": [
    "import numpy  as np\n",
    "import pandas as pd\n",
    "\n",
    "import sklearn\n",
    "from   sklearn.ensemble        import RandomForestClassifier\n",
    "from   sklearn.linear_model    import LogisticRegression\n",
    "from   sklearn.metrics         import accuracy_score\n",
    "from   sklearn.model_selection import train_test_split\n",
    "from   sklearn.preprocessing   import StandardScaler\n",
    "\n",
    "import tensorflow as tf\n",
    "from   tensorflow.keras.layers import Dense\n",
    "from   tensorflow.keras.models import Sequential\n",
    "\n",
    "import datetime\n",
    "from   importlib.metadata import version\n",
    "import os\n",
    "import platform as p\n",
    "import sys\n",
    "\n",
    "pad = 20\n",
    "print(  f\"\\n{'Executed' : <{pad}} : {datetime.datetime.now().astimezone().strftime('%Y-%m-%d %H:%M:%S %z %Z')}\"\n",
    "        f\"\\n{'Platform' : <{pad}} : {p.platform(aliased = False, terse = False)}\"\n",
    "        f\"\\n{'Conda'    : <{pad}} : {os.environ['CONDA_DEFAULT_ENV'] or sys.executable.split('/')[-3]}\"\n",
    "        f\"\\n{'Python'   : <{pad}} : {p.python_implementation()} {p.python_version()} {sys.executable}\")\n",
    "print(*[f'{name : <{pad}} : {version(name)}'\n",
    "        for name in ['NumPy', 'Pandas', 'Scikit-Learn', 'TensorFlow-macos', 'TensorFlow-metal']], sep = '\\n')"
   ]
  },
  {
   "cell_type": "code",
   "execution_count": 2,
   "metadata": {},
   "outputs": [
    {
     "name": "stdout",
     "output_type": "stream",
     "text": [
      "openblas64__info:\n",
      "    libraries = ['openblas64_', 'openblas64_']\n",
      "    library_dirs = ['/usr/local/lib']\n",
      "    language = c\n",
      "    define_macros = [('HAVE_CBLAS', None), ('BLAS_SYMBOL_SUFFIX', '64_'), ('HAVE_BLAS_ILP64', None)]\n",
      "    runtime_library_dirs = ['/usr/local/lib']\n",
      "blas_ilp64_opt_info:\n",
      "    libraries = ['openblas64_', 'openblas64_']\n",
      "    library_dirs = ['/usr/local/lib']\n",
      "    language = c\n",
      "    define_macros = [('HAVE_CBLAS', None), ('BLAS_SYMBOL_SUFFIX', '64_'), ('HAVE_BLAS_ILP64', None)]\n",
      "    runtime_library_dirs = ['/usr/local/lib']\n",
      "openblas64__lapack_info:\n",
      "    libraries = ['openblas64_', 'openblas64_']\n",
      "    library_dirs = ['/usr/local/lib']\n",
      "    language = c\n",
      "    define_macros = [('HAVE_CBLAS', None), ('BLAS_SYMBOL_SUFFIX', '64_'), ('HAVE_BLAS_ILP64', None), ('HAVE_LAPACKE', None)]\n",
      "    runtime_library_dirs = ['/usr/local/lib']\n",
      "lapack_ilp64_opt_info:\n",
      "    libraries = ['openblas64_', 'openblas64_']\n",
      "    library_dirs = ['/usr/local/lib']\n",
      "    language = c\n",
      "    define_macros = [('HAVE_CBLAS', None), ('BLAS_SYMBOL_SUFFIX', '64_'), ('HAVE_BLAS_ILP64', None), ('HAVE_LAPACKE', None)]\n",
      "    runtime_library_dirs = ['/usr/local/lib']\n",
      "Supported SIMD extensions in this NumPy install:\n",
      "    baseline = NEON,NEON_FP16,NEON_VFPV4,ASIMD\n",
      "    found = ASIMDHP,ASIMDDP\n",
      "    not found = ASIMDFHM\n"
     ]
    }
   ],
   "source": [
    "np.show_config()"
   ]
  },
  {
   "cell_type": "code",
   "execution_count": 3,
   "metadata": {},
   "outputs": [
    {
     "name": "stdout",
     "output_type": "stream",
     "text": [
      "[{'simd_extensions': {'baseline': ['NEON', 'NEON_FP16', 'NEON_VFPV4', 'ASIMD'],\n",
      "                      'found': ['ASIMDHP', 'ASIMDDP'],\n",
      "                      'not_found': ['ASIMDFHM']}},\n",
      " {'architecture': 'armv8',\n",
      "  'filepath': '/Users/davefriedman/anaconda3/envs/jb/lib/python3.11/site-packages/numpy/.dylibs/libopenblas64_.0.dylib',\n",
      "  'internal_api': 'openblas',\n",
      "  'num_threads': 10,\n",
      "  'prefix': 'libopenblas',\n",
      "  'threading_layer': 'pthreads',\n",
      "  'user_api': 'blas',\n",
      "  'version': '0.3.21'},\n",
      " {'architecture': 'VORTEX',\n",
      "  'filepath': '/Users/davefriedman/anaconda3/envs/jb/lib/libopenblas.0.dylib',\n",
      "  'internal_api': 'openblas',\n",
      "  'num_threads': 10,\n",
      "  'prefix': 'libopenblas',\n",
      "  'threading_layer': 'openmp',\n",
      "  'user_api': 'blas',\n",
      "  'version': '0.3.23'},\n",
      " {'filepath': '/Users/davefriedman/anaconda3/envs/jb/lib/libomp.dylib',\n",
      "  'internal_api': 'openmp',\n",
      "  'num_threads': 10,\n",
      "  'prefix': 'libomp',\n",
      "  'user_api': 'openmp',\n",
      "  'version': None}]\n"
     ]
    }
   ],
   "source": [
    "np.show_runtime()"
   ]
  },
  {
   "cell_type": "code",
   "execution_count": 4,
   "metadata": {},
   "outputs": [
    {
     "name": "stdout",
     "output_type": "stream",
     "text": [
      "\n",
      "System:\n",
      "    python: 3.11.4 | packaged by conda-forge | (main, Jun 10 2023, 18:08:41) [Clang 15.0.7 ]\n",
      "executable: /Users/davefriedman/anaconda3/envs/jb/bin/python\n",
      "   machine: macOS-13.3.1-arm64-arm-64bit\n",
      "\n",
      "Python dependencies:\n",
      "      sklearn: 1.3.0\n",
      "          pip: 23.1.2\n",
      "   setuptools: 68.0.0\n",
      "        numpy: 1.24.3\n",
      "        scipy: 1.11.1\n",
      "       Cython: 3.0.0\n",
      "       pandas: 2.0.3\n",
      "   matplotlib: 3.7.2\n",
      "       joblib: 1.3.0\n",
      "threadpoolctl: 3.2.0\n",
      "\n",
      "Built with OpenMP: True\n",
      "\n",
      "threadpoolctl info:\n",
      "       user_api: blas\n",
      "   internal_api: openblas\n",
      "    num_threads: 10\n",
      "         prefix: libopenblas\n",
      "       filepath: /Users/davefriedman/anaconda3/envs/jb/lib/python3.11/site-packages/numpy/.dylibs/libopenblas64_.0.dylib\n",
      "        version: 0.3.21\n",
      "threading_layer: pthreads\n",
      "   architecture: armv8\n",
      "\n",
      "       user_api: blas\n",
      "   internal_api: openblas\n",
      "    num_threads: 10\n",
      "         prefix: libopenblas\n",
      "       filepath: /Users/davefriedman/anaconda3/envs/jb/lib/libopenblas.0.dylib\n",
      "        version: 0.3.23\n",
      "threading_layer: openmp\n",
      "   architecture: VORTEX\n",
      "\n",
      "       user_api: openmp\n",
      "   internal_api: openmp\n",
      "    num_threads: 10\n",
      "         prefix: libomp\n",
      "       filepath: /Users/davefriedman/anaconda3/envs/jb/lib/libomp.dylib\n",
      "        version: None\n"
     ]
    }
   ],
   "source": [
    "sklearn.show_versions()"
   ]
  },
  {
   "cell_type": "code",
   "execution_count": 2,
   "metadata": {},
   "outputs": [
    {
     "name": "stdout",
     "output_type": "stream",
     "text": [
      "Num CPUs (pre  runtime init): 1\n",
      "Num GPUs (pre  runtime init): 1\n",
      "Num CPUs (post runtime init): 1\n",
      "Num GPUs (post runtime init): 1\n"
     ]
    },
    {
     "name": "stderr",
     "output_type": "stream",
     "text": [
      "2023-09-04 12:17:30.784703: I metal_plugin/src/device/metal_device.cc:1154] Metal device set to: Apple M1 Max\n",
      "2023-09-04 12:17:30.784735: I metal_plugin/src/device/metal_device.cc:296] systemMemory: 64.00 GB\n",
      "2023-09-04 12:17:30.784741: I metal_plugin/src/device/metal_device.cc:313] maxCacheSize: 24.00 GB\n",
      "2023-09-04 12:17:30.784844: I tensorflow/core/common_runtime/pluggable_device/pluggable_device_factory.cc:303] Could not identify NUMA node of platform GPU ID 0, defaulting to 0. Your kernel may not have been built with NUMA support.\n",
      "2023-09-04 12:17:30.785098: I tensorflow/core/common_runtime/pluggable_device/pluggable_device_factory.cc:269] Created TensorFlow device (/job:localhost/replica:0/task:0/device:GPU:0 with 0 MB memory) -> physical PluggableDevice (device: 0, name: METAL, pci bus id: <undefined>)\n"
     ]
    }
   ],
   "source": [
    "physical_devices_cpu = tf.config.list_physical_devices('CPU')\n",
    "physical_devices_gpu = tf.config.list_physical_devices('GPU')\n",
    "logical_devices_cpu  = tf.config.list_logical_devices ('CPU')\n",
    "logical_devices_gpu  = tf.config.list_logical_devices ('GPU')\n",
    "\n",
    "print(f'Num CPUs (pre  runtime init): {len(physical_devices_cpu)}')\n",
    "print(f'Num GPUs (pre  runtime init): {len(physical_devices_gpu)}')\n",
    "print(f'Num CPUs (post runtime init): {len(logical_devices_cpu)}')\n",
    "print(f'Num GPUs (post runtime init): {len(logical_devices_gpu)}')"
   ]
  },
  {
   "cell_type": "markdown",
   "metadata": {},
   "source": [
    "---"
   ]
  },
  {
   "cell_type": "markdown",
   "metadata": {},
   "source": [
    "```python\n",
    "loans_df = pd.read_csv(filepath_or_buffer = 'https://static.bc-edx.com/mbc/ai/m6/datasets/student_loans.csv')\n",
    "loans_df.head()\n",
    "\n",
    "X = loans_df.copy()\n",
    "X = X.drop(columns = ['credit_ranking'])\n",
    "y = loans_df['credit_ranking']\n",
    "y.value_counts()\n",
    "\n",
    "X_train, X_test, y_train, y_test = train_test_split(X, y, random_state = 1)\n",
    "\n",
    "# STANDARD SCALER\n",
    "scaler         = StandardScaler()\n",
    "X_scaler       = scaler.fit(X = X_train)\n",
    "X_train_scaled = X_scaler.transform(X = X_train)\n",
    "X_test_scaled  = X_scaler.transform(X = X_test)\n",
    "\n",
    "# NN\n",
    "number_input_features = len(X_train.iloc[0]) # 11\n",
    "number_output_neurons = 1\n",
    "hidden_nodes_layer1   = (number_input_features + number_output_neurons) // 2 # 6\n",
    "hidden_nodes_layer2   = (hidden_nodes_layer1   + number_output_neurons) // 2 # 3\n",
    "nn = Sequential()\n",
    "nn.add(Dense(units      = hidden_nodes_layer1,\n",
    "             input_dim  = number_input_features,\n",
    "             activation = 'relu'))\n",
    "nn.add(Dense(units      = hidden_nodes_layer2,\n",
    "             activation = 'relu'))\n",
    "nn.add(Dense(units      = number_output_neurons,\n",
    "             activation = 'linear'))\n",
    "nn.summary()\n",
    "nn.compile(loss      = 'mse',\n",
    "           optimizer = 'adam',\n",
    "           metrics   = ['mse'])\n",
    "fit_model = nn.fit(x = X_train_scaled,\n",
    "                   y = y_train,\n",
    "                   epochs = 50)\n",
    "nn.evaluate(x = X_test_scaled,\n",
    "            y = y_test,\n",
    "            verbose = 2)\n",
    "nn.save('saved_models/student_loans.h5')\n",
    "\n",
    "nn_imported = tf.keras.models.load_model(filepath = 'saved_models/student_loans.h5')\n",
    "predictions = nn_imported.predict(x = X_test_scaled).round().astype('int32')\n",
    "results     = pd.DataFrame(data = {\n",
    "  'predictions' : predictions.ravel(),\n",
    "  'actual'      : y_test,\n",
    "})\n",
    "```"
   ]
  },
  {
   "cell_type": "markdown",
   "metadata": {},
   "source": [
    "---"
   ]
  },
  {
   "cell_type": "code",
   "execution_count": 7,
   "metadata": {},
   "outputs": [
    {
     "data": {
      "text/html": [
       "<div>\n",
       "<style scoped>\n",
       "    .dataframe tbody tr th:only-of-type {\n",
       "        vertical-align: middle;\n",
       "    }\n",
       "\n",
       "    .dataframe tbody tr th {\n",
       "        vertical-align: top;\n",
       "    }\n",
       "\n",
       "    .dataframe thead th {\n",
       "        text-align: right;\n",
       "    }\n",
       "</style>\n",
       "<table border=\"1\" class=\"dataframe\">\n",
       "  <thead>\n",
       "    <tr style=\"text-align: right;\">\n",
       "      <th></th>\n",
       "      <th>payment_history</th>\n",
       "      <th>location_parameter</th>\n",
       "      <th>stem_degree_score</th>\n",
       "      <th>gpa_ranking</th>\n",
       "      <th>alumni_success</th>\n",
       "      <th>study_major_code</th>\n",
       "      <th>time_to_completion</th>\n",
       "      <th>finance_workshop_score</th>\n",
       "      <th>cohort_ranking</th>\n",
       "      <th>total_loan_score</th>\n",
       "      <th>financial_aid_score</th>\n",
       "      <th>credit_ranking</th>\n",
       "    </tr>\n",
       "  </thead>\n",
       "  <tbody>\n",
       "    <tr>\n",
       "      <th>0</th>\n",
       "      <td>7.4</td>\n",
       "      <td>0.70</td>\n",
       "      <td>0.00</td>\n",
       "      <td>1.9</td>\n",
       "      <td>0.076</td>\n",
       "      <td>11.0</td>\n",
       "      <td>34.0</td>\n",
       "      <td>0.9978</td>\n",
       "      <td>3.51</td>\n",
       "      <td>0.56</td>\n",
       "      <td>9.4</td>\n",
       "      <td>5</td>\n",
       "    </tr>\n",
       "    <tr>\n",
       "      <th>1</th>\n",
       "      <td>7.8</td>\n",
       "      <td>0.88</td>\n",
       "      <td>0.00</td>\n",
       "      <td>2.6</td>\n",
       "      <td>0.098</td>\n",
       "      <td>25.0</td>\n",
       "      <td>67.0</td>\n",
       "      <td>0.9968</td>\n",
       "      <td>3.20</td>\n",
       "      <td>0.68</td>\n",
       "      <td>9.8</td>\n",
       "      <td>5</td>\n",
       "    </tr>\n",
       "    <tr>\n",
       "      <th>2</th>\n",
       "      <td>7.8</td>\n",
       "      <td>0.76</td>\n",
       "      <td>0.04</td>\n",
       "      <td>2.3</td>\n",
       "      <td>0.092</td>\n",
       "      <td>15.0</td>\n",
       "      <td>54.0</td>\n",
       "      <td>0.9970</td>\n",
       "      <td>3.26</td>\n",
       "      <td>0.65</td>\n",
       "      <td>9.8</td>\n",
       "      <td>5</td>\n",
       "    </tr>\n",
       "    <tr>\n",
       "      <th>3</th>\n",
       "      <td>11.2</td>\n",
       "      <td>0.28</td>\n",
       "      <td>0.56</td>\n",
       "      <td>1.9</td>\n",
       "      <td>0.075</td>\n",
       "      <td>17.0</td>\n",
       "      <td>60.0</td>\n",
       "      <td>0.9980</td>\n",
       "      <td>3.16</td>\n",
       "      <td>0.58</td>\n",
       "      <td>9.8</td>\n",
       "      <td>6</td>\n",
       "    </tr>\n",
       "    <tr>\n",
       "      <th>4</th>\n",
       "      <td>7.4</td>\n",
       "      <td>0.70</td>\n",
       "      <td>0.00</td>\n",
       "      <td>1.9</td>\n",
       "      <td>0.076</td>\n",
       "      <td>11.0</td>\n",
       "      <td>34.0</td>\n",
       "      <td>0.9978</td>\n",
       "      <td>3.51</td>\n",
       "      <td>0.56</td>\n",
       "      <td>9.4</td>\n",
       "      <td>5</td>\n",
       "    </tr>\n",
       "  </tbody>\n",
       "</table>\n",
       "</div>"
      ],
      "text/plain": [
       "   payment_history  location_parameter  stem_degree_score  gpa_ranking  \\\n",
       "0              7.4                0.70               0.00          1.9   \n",
       "1              7.8                0.88               0.00          2.6   \n",
       "2              7.8                0.76               0.04          2.3   \n",
       "3             11.2                0.28               0.56          1.9   \n",
       "4              7.4                0.70               0.00          1.9   \n",
       "\n",
       "   alumni_success  study_major_code  time_to_completion  \\\n",
       "0           0.076              11.0                34.0   \n",
       "1           0.098              25.0                67.0   \n",
       "2           0.092              15.0                54.0   \n",
       "3           0.075              17.0                60.0   \n",
       "4           0.076              11.0                34.0   \n",
       "\n",
       "   finance_workshop_score  cohort_ranking  total_loan_score  \\\n",
       "0                  0.9978            3.51              0.56   \n",
       "1                  0.9968            3.20              0.68   \n",
       "2                  0.9970            3.26              0.65   \n",
       "3                  0.9980            3.16              0.58   \n",
       "4                  0.9978            3.51              0.56   \n",
       "\n",
       "   financial_aid_score  credit_ranking  \n",
       "0                  9.4               5  \n",
       "1                  9.8               5  \n",
       "2                  9.8               5  \n",
       "3                  9.8               6  \n",
       "4                  9.4               5  "
      ]
     },
     "execution_count": 7,
     "metadata": {},
     "output_type": "execute_result"
    }
   ],
   "source": [
    "loans_df = pd.read_csv(filepath_or_buffer = 'student_loans.csv')\n",
    "loans_df.head()"
   ]
  },
  {
   "cell_type": "code",
   "execution_count": 8,
   "metadata": {},
   "outputs": [
    {
     "name": "stdout",
     "output_type": "stream",
     "text": [
      "<class 'pandas.core.frame.DataFrame'>\n",
      "RangeIndex: 1599 entries, 0 to 1598\n",
      "Data columns (total 12 columns):\n",
      " #   Column                  Non-Null Count  Dtype  \n",
      "---  ------                  --------------  -----  \n",
      " 0   payment_history         1599 non-null   float64\n",
      " 1   location_parameter      1599 non-null   float64\n",
      " 2   stem_degree_score       1599 non-null   float64\n",
      " 3   gpa_ranking             1599 non-null   float64\n",
      " 4   alumni_success          1599 non-null   float64\n",
      " 5   study_major_code        1599 non-null   float64\n",
      " 6   time_to_completion      1599 non-null   float64\n",
      " 7   finance_workshop_score  1599 non-null   float64\n",
      " 8   cohort_ranking          1599 non-null   float64\n",
      " 9   total_loan_score        1599 non-null   float64\n",
      " 10  financial_aid_score     1599 non-null   float64\n",
      " 11  credit_ranking          1599 non-null   int64  \n",
      "dtypes: float64(11), int64(1)\n",
      "memory usage: 150.0 KB\n"
     ]
    }
   ],
   "source": [
    "loans_df.info(memory_usage = True,\n",
    "              show_counts  = True,\n",
    "              verbose      = True)"
   ]
  },
  {
   "cell_type": "code",
   "execution_count": 9,
   "metadata": {},
   "outputs": [
    {
     "data": {
      "text/plain": [
       "credit_ranking\n",
       "5    681\n",
       "6    638\n",
       "7    199\n",
       "4     53\n",
       "8     18\n",
       "3     10\n",
       "Name: count, dtype: int64"
      ]
     },
     "execution_count": 9,
     "metadata": {},
     "output_type": "execute_result"
    }
   ],
   "source": [
    "X = loans_df.copy()\n",
    "X = X.drop(columns = ['credit_ranking'])\n",
    "y = loans_df['credit_ranking']\n",
    "y.value_counts()"
   ]
  },
  {
   "cell_type": "code",
   "execution_count": 10,
   "metadata": {},
   "outputs": [
    {
     "name": "stdout",
     "output_type": "stream",
     "text": [
      "class:  ndarray\n",
      "shape:  (1599,)\n",
      "strides:  (8,)\n",
      "itemsize:  8\n",
      "aligned:  True\n",
      "contiguous:  True\n",
      "fortran:  True\n",
      "data pointer: 0x29b1a6800\n",
      "byteorder:  little\n",
      "byteswap:  False\n",
      "type: int64\n"
     ]
    }
   ],
   "source": [
    "np.info(object = y.values)"
   ]
  },
  {
   "cell_type": "code",
   "execution_count": 11,
   "metadata": {},
   "outputs": [
    {
     "name": "stdout",
     "output_type": "stream",
     "text": [
      "(1199, 11)\n",
      "(1199,)\n",
      "(400, 11)\n",
      "(400,)\n"
     ]
    }
   ],
   "source": [
    "X_train, X_test, y_train, y_test = train_test_split(X, y, random_state = 1)\n",
    "\n",
    "print(X_train.shape)\n",
    "print(y_train.shape)\n",
    "print(X_test .shape)\n",
    "print(y_test .shape)"
   ]
  },
  {
   "cell_type": "code",
   "execution_count": 12,
   "metadata": {},
   "outputs": [
    {
     "name": "stdout",
     "output_type": "stream",
     "text": [
      "(1199, 11)\n",
      "(400, 11)\n"
     ]
    }
   ],
   "source": [
    "scaler   = StandardScaler()\n",
    "X_scaler = scaler.fit(X = X_train)\n",
    "\n",
    "X_train_scaled = X_scaler.transform(X = X_train)\n",
    "X_test_scaled  = X_scaler.transform(X = X_test)\n",
    "\n",
    "print(X_train_scaled.shape)\n",
    "print(X_test_scaled .shape)"
   ]
  },
  {
   "cell_type": "code",
   "execution_count": 13,
   "metadata": {},
   "outputs": [
    {
     "name": "stdout",
     "output_type": "stream",
     "text": [
      "Model: \"sequential\"\n",
      "_________________________________________________________________\n",
      " Layer (type)                Output Shape              Param #   \n",
      "=================================================================\n",
      " dense (Dense)               (None, 6)                 72        \n",
      "                                                                 \n",
      " dense_1 (Dense)             (None, 3)                 21        \n",
      "                                                                 \n",
      " dense_2 (Dense)             (None, 1)                 4         \n",
      "                                                                 \n",
      "=================================================================\n",
      "Total params: 97 (388.00 Byte)\n",
      "Trainable params: 97 (388.00 Byte)\n",
      "Non-trainable params: 0 (0.00 Byte)\n",
      "_________________________________________________________________\n"
     ]
    }
   ],
   "source": [
    "number_input_features = len(X_train.iloc[0]) # 11\n",
    "number_output_neurons = 1\n",
    "\n",
    "hidden_nodes_layer1   = (number_input_features + number_output_neurons) // 2 # 6\n",
    "hidden_nodes_layer2   = (hidden_nodes_layer1   + number_output_neurons) // 2 # 3\n",
    "\n",
    "nn = Sequential()\n",
    "nn.add(Dense(units      = hidden_nodes_layer1,\n",
    "             input_dim  = number_input_features,\n",
    "             activation = 'relu'))\n",
    "nn.add(Dense(units      = hidden_nodes_layer2,\n",
    "             activation = 'relu'))\n",
    "nn.add(Dense(units      = number_output_neurons,\n",
    "             activation = 'linear'))\n",
    "nn.summary()"
   ]
  },
  {
   "cell_type": "code",
   "execution_count": 14,
   "metadata": {},
   "outputs": [
    {
     "name": "stdout",
     "output_type": "stream",
     "text": [
      "Epoch 1/50\n",
      " 1/38 [..............................] - ETA: 10s - loss: 31.4691 - mse: 31.4691"
     ]
    },
    {
     "name": "stderr",
     "output_type": "stream",
     "text": [
      "2023-07-25 01:41:36.870822: I tensorflow/core/grappler/optimizers/custom_graph_optimizer_registry.cc:114] Plugin optimizer for device_type GPU is enabled.\n"
     ]
    },
    {
     "name": "stdout",
     "output_type": "stream",
     "text": [
      "38/38 [==============================] - 1s 7ms/step - loss: 31.9231 - mse: 31.9231\n",
      "Epoch 2/50\n",
      "38/38 [==============================] - 0s 5ms/step - loss: 30.4239 - mse: 30.4239\n",
      "Epoch 3/50\n",
      "38/38 [==============================] - 0s 6ms/step - loss: 29.2018 - mse: 29.2018\n",
      "Epoch 4/50\n",
      "38/38 [==============================] - 0s 5ms/step - loss: 28.2518 - mse: 28.2518\n",
      "Epoch 5/50\n",
      "38/38 [==============================] - 0s 5ms/step - loss: 27.5062 - mse: 27.5062\n",
      "Epoch 6/50\n",
      "38/38 [==============================] - 0s 5ms/step - loss: 26.5473 - mse: 26.5473\n",
      "Epoch 7/50\n",
      "38/38 [==============================] - 0s 5ms/step - loss: 25.4033 - mse: 25.4033\n",
      "Epoch 8/50\n",
      "38/38 [==============================] - 0s 6ms/step - loss: 24.0248 - mse: 24.0248\n",
      "Epoch 9/50\n",
      "38/38 [==============================] - 0s 6ms/step - loss: 22.1770 - mse: 22.1770\n",
      "Epoch 10/50\n",
      "38/38 [==============================] - 0s 6ms/step - loss: 20.2179 - mse: 20.2179\n",
      "Epoch 11/50\n",
      "38/38 [==============================] - 0s 5ms/step - loss: 18.2329 - mse: 18.2329\n",
      "Epoch 12/50\n",
      "38/38 [==============================] - 0s 5ms/step - loss: 16.3314 - mse: 16.3314\n",
      "Epoch 13/50\n",
      "38/38 [==============================] - 0s 5ms/step - loss: 14.4706 - mse: 14.4706\n",
      "Epoch 14/50\n",
      "38/38 [==============================] - 0s 5ms/step - loss: 12.5590 - mse: 12.5590\n",
      "Epoch 15/50\n",
      "38/38 [==============================] - 0s 6ms/step - loss: 10.6390 - mse: 10.6390\n",
      "Epoch 16/50\n",
      "38/38 [==============================] - 0s 7ms/step - loss: 8.8223 - mse: 8.8223\n",
      "Epoch 17/50\n",
      "38/38 [==============================] - 0s 5ms/step - loss: 7.1219 - mse: 7.1219\n",
      "Epoch 18/50\n",
      "38/38 [==============================] - 0s 5ms/step - loss: 5.5019 - mse: 5.5019\n",
      "Epoch 19/50\n",
      "38/38 [==============================] - 0s 5ms/step - loss: 4.1771 - mse: 4.1771\n",
      "Epoch 20/50\n",
      "38/38 [==============================] - 0s 7ms/step - loss: 3.0812 - mse: 3.0812\n",
      "Epoch 21/50\n",
      "38/38 [==============================] - 0s 6ms/step - loss: 2.2420 - mse: 2.2420\n",
      "Epoch 22/50\n",
      "38/38 [==============================] - 0s 6ms/step - loss: 1.6122 - mse: 1.6122\n",
      "Epoch 23/50\n",
      "38/38 [==============================] - 0s 6ms/step - loss: 1.1784 - mse: 1.1784\n",
      "Epoch 24/50\n",
      "38/38 [==============================] - 0s 5ms/step - loss: 0.8922 - mse: 0.8922\n",
      "Epoch 25/50\n",
      "38/38 [==============================] - 0s 5ms/step - loss: 0.7231 - mse: 0.7231\n",
      "Epoch 26/50\n",
      "38/38 [==============================] - 0s 5ms/step - loss: 0.6073 - mse: 0.6073\n",
      "Epoch 27/50\n",
      "38/38 [==============================] - 0s 6ms/step - loss: 0.5469 - mse: 0.5469\n",
      "Epoch 28/50\n",
      "38/38 [==============================] - 0s 7ms/step - loss: 0.5096 - mse: 0.5096\n",
      "Epoch 29/50\n",
      "38/38 [==============================] - 0s 6ms/step - loss: 0.4883 - mse: 0.4883\n",
      "Epoch 30/50\n",
      "38/38 [==============================] - 0s 5ms/step - loss: 0.4798 - mse: 0.4798\n",
      "Epoch 31/50\n",
      "38/38 [==============================] - 0s 5ms/step - loss: 0.4679 - mse: 0.4679\n",
      "Epoch 32/50\n",
      "38/38 [==============================] - 0s 6ms/step - loss: 0.4617 - mse: 0.4617\n",
      "Epoch 33/50\n",
      "38/38 [==============================] - 0s 7ms/step - loss: 0.4656 - mse: 0.4656\n",
      "Epoch 34/50\n",
      "38/38 [==============================] - 0s 6ms/step - loss: 0.4576 - mse: 0.4576\n",
      "Epoch 35/50\n",
      "38/38 [==============================] - 0s 5ms/step - loss: 0.4553 - mse: 0.4553\n",
      "Epoch 36/50\n",
      "38/38 [==============================] - 0s 5ms/step - loss: 0.4558 - mse: 0.4558\n",
      "Epoch 37/50\n",
      "38/38 [==============================] - 0s 5ms/step - loss: 0.4548 - mse: 0.4548\n",
      "Epoch 38/50\n",
      "38/38 [==============================] - 0s 5ms/step - loss: 0.4572 - mse: 0.4572\n",
      "Epoch 39/50\n",
      "38/38 [==============================] - 0s 5ms/step - loss: 0.4555 - mse: 0.4555\n",
      "Epoch 40/50\n",
      "38/38 [==============================] - 0s 5ms/step - loss: 0.4478 - mse: 0.4478\n",
      "Epoch 41/50\n",
      "38/38 [==============================] - 0s 5ms/step - loss: 0.4462 - mse: 0.4462\n",
      "Epoch 42/50\n",
      "38/38 [==============================] - 0s 5ms/step - loss: 0.4435 - mse: 0.4435\n",
      "Epoch 43/50\n",
      "38/38 [==============================] - 0s 6ms/step - loss: 0.4452 - mse: 0.4452\n",
      "Epoch 44/50\n",
      "38/38 [==============================] - 0s 5ms/step - loss: 0.4449 - mse: 0.4449\n",
      "Epoch 45/50\n",
      "38/38 [==============================] - 0s 5ms/step - loss: 0.4403 - mse: 0.4403\n",
      "Epoch 46/50\n",
      "38/38 [==============================] - 0s 5ms/step - loss: 0.4415 - mse: 0.4415\n",
      "Epoch 47/50\n",
      "38/38 [==============================] - 0s 5ms/step - loss: 0.4455 - mse: 0.4455\n",
      "Epoch 48/50\n",
      "38/38 [==============================] - 0s 6ms/step - loss: 0.4402 - mse: 0.4402\n",
      "Epoch 49/50\n",
      "38/38 [==============================] - 0s 5ms/step - loss: 0.4411 - mse: 0.4411\n",
      "Epoch 50/50\n",
      "38/38 [==============================] - 0s 5ms/step - loss: 0.4401 - mse: 0.4401\n"
     ]
    }
   ],
   "source": [
    "nn.compile(loss      = 'mse',\n",
    "           optimizer = 'adam',\n",
    "           metrics   = ['mse'])\n",
    "\n",
    "fit_model = nn.fit(x = X_train_scaled,\n",
    "                   y = y_train,\n",
    "                   epochs = 50)"
   ]
  },
  {
   "cell_type": "code",
   "execution_count": 15,
   "metadata": {},
   "outputs": [
    {
     "name": "stdout",
     "output_type": "stream",
     "text": [
      "13/13 - 0s - loss: 0.3991 - mse: 0.3991 - 129ms/epoch - 10ms/step\n"
     ]
    },
    {
     "name": "stderr",
     "output_type": "stream",
     "text": [
      "2023-07-25 01:41:47.841394: I tensorflow/core/grappler/optimizers/custom_graph_optimizer_registry.cc:114] Plugin optimizer for device_type GPU is enabled.\n"
     ]
    },
    {
     "data": {
      "text/plain": [
       "[0.39913174510002136, 0.39913174510002136]"
      ]
     },
     "execution_count": 15,
     "metadata": {},
     "output_type": "execute_result"
    }
   ],
   "source": [
    "nn.evaluate(x = X_test_scaled,\n",
    "            y = y_test,\n",
    "            verbose = 2)"
   ]
  },
  {
   "cell_type": "code",
   "execution_count": 16,
   "metadata": {},
   "outputs": [
    {
     "name": "stderr",
     "output_type": "stream",
     "text": [
      "/Users/davefriedman/anaconda3/envs/jb/lib/python3.11/site-packages/keras/src/engine/training.py:3000: UserWarning: You are saving your model as an HDF5 file via `model.save()`. This file format is considered legacy. We recommend using instead the native Keras format, e.g. `model.save('my_model.keras')`.\n",
      "  saving_api.save_model(\n"
     ]
    }
   ],
   "source": [
    "nn.save('saved_models/student_loans.h5')"
   ]
  },
  {
   "cell_type": "code",
   "execution_count": 17,
   "metadata": {},
   "outputs": [
    {
     "data": {
      "text/plain": [
       "<keras.src.engine.sequential.Sequential at 0x2abad0890>"
      ]
     },
     "execution_count": 17,
     "metadata": {},
     "output_type": "execute_result"
    }
   ],
   "source": [
    "nn_imported = tf.keras.models.load_model(filepath = 'saved_models/student_loans.h5')\n",
    "nn_imported"
   ]
  },
  {
   "cell_type": "code",
   "execution_count": 18,
   "metadata": {},
   "outputs": [
    {
     "name": "stdout",
     "output_type": "stream",
     "text": [
      " 1/13 [=>............................] - ETA: 0s"
     ]
    },
    {
     "name": "stderr",
     "output_type": "stream",
     "text": [
      "2023-07-25 01:41:48.089861: I tensorflow/core/grappler/optimizers/custom_graph_optimizer_registry.cc:114] Plugin optimizer for device_type GPU is enabled.\n"
     ]
    },
    {
     "name": "stdout",
     "output_type": "stream",
     "text": [
      "13/13 [==============================] - 0s 3ms/step\n",
      "class:  ndarray\n",
      "shape:  (400, 1)\n",
      "strides:  (4, 4)\n",
      "itemsize:  4\n",
      "aligned:  True\n",
      "contiguous:  True\n",
      "fortran:  True\n",
      "data pointer: 0x2b42eee00\n",
      "byteorder:  little\n",
      "byteswap:  False\n",
      "type: int32\n"
     ]
    }
   ],
   "source": [
    "predictions = nn_imported.predict(x = X_test_scaled).round().astype('int32')\n",
    "\n",
    "np.info(object = predictions)"
   ]
  },
  {
   "cell_type": "code",
   "execution_count": 19,
   "metadata": {},
   "outputs": [
    {
     "data": {
      "text/html": [
       "<div>\n",
       "<style scoped>\n",
       "    .dataframe tbody tr th:only-of-type {\n",
       "        vertical-align: middle;\n",
       "    }\n",
       "\n",
       "    .dataframe tbody tr th {\n",
       "        vertical-align: top;\n",
       "    }\n",
       "\n",
       "    .dataframe thead th {\n",
       "        text-align: right;\n",
       "    }\n",
       "</style>\n",
       "<table border=\"1\" class=\"dataframe\">\n",
       "  <thead>\n",
       "    <tr style=\"text-align: right;\">\n",
       "      <th></th>\n",
       "      <th>predictions</th>\n",
       "      <th>actual</th>\n",
       "    </tr>\n",
       "  </thead>\n",
       "  <tbody>\n",
       "    <tr>\n",
       "      <th>75</th>\n",
       "      <td>6</td>\n",
       "      <td>5</td>\n",
       "    </tr>\n",
       "    <tr>\n",
       "      <th>1283</th>\n",
       "      <td>5</td>\n",
       "      <td>6</td>\n",
       "    </tr>\n",
       "    <tr>\n",
       "      <th>408</th>\n",
       "      <td>6</td>\n",
       "      <td>6</td>\n",
       "    </tr>\n",
       "    <tr>\n",
       "      <th>1281</th>\n",
       "      <td>6</td>\n",
       "      <td>6</td>\n",
       "    </tr>\n",
       "    <tr>\n",
       "      <th>1118</th>\n",
       "      <td>7</td>\n",
       "      <td>6</td>\n",
       "    </tr>\n",
       "    <tr>\n",
       "      <th>...</th>\n",
       "      <td>...</td>\n",
       "      <td>...</td>\n",
       "    </tr>\n",
       "    <tr>\n",
       "      <th>1416</th>\n",
       "      <td>6</td>\n",
       "      <td>5</td>\n",
       "    </tr>\n",
       "    <tr>\n",
       "      <th>1567</th>\n",
       "      <td>5</td>\n",
       "      <td>5</td>\n",
       "    </tr>\n",
       "    <tr>\n",
       "      <th>1204</th>\n",
       "      <td>6</td>\n",
       "      <td>7</td>\n",
       "    </tr>\n",
       "    <tr>\n",
       "      <th>12</th>\n",
       "      <td>5</td>\n",
       "      <td>5</td>\n",
       "    </tr>\n",
       "    <tr>\n",
       "      <th>584</th>\n",
       "      <td>6</td>\n",
       "      <td>7</td>\n",
       "    </tr>\n",
       "  </tbody>\n",
       "</table>\n",
       "<p>400 rows × 2 columns</p>\n",
       "</div>"
      ],
      "text/plain": [
       "      predictions  actual\n",
       "75              6       5\n",
       "1283            5       6\n",
       "408             6       6\n",
       "1281            6       6\n",
       "1118            7       6\n",
       "...           ...     ...\n",
       "1416            6       5\n",
       "1567            5       5\n",
       "1204            6       7\n",
       "12              5       5\n",
       "584             6       7\n",
       "\n",
       "[400 rows x 2 columns]"
      ]
     },
     "execution_count": 19,
     "metadata": {},
     "output_type": "execute_result"
    }
   ],
   "source": [
    "results = pd.DataFrame(data = {\n",
    "  'predictions' : predictions.ravel(),\n",
    "  'actual'      : y_test,\n",
    "})\n",
    "results"
   ]
  },
  {
   "cell_type": "markdown",
   "metadata": {},
   "source": [
    "---"
   ]
  }
 ],
 "metadata": {
  "kernelspec": {
   "display_name": "jb",
   "language": "python",
   "name": "python3"
  },
  "language_info": {
   "codemirror_mode": {
    "name": "ipython",
    "version": 3
   },
   "file_extension": ".py",
   "mimetype": "text/x-python",
   "name": "python",
   "nbconvert_exporter": "python",
   "pygments_lexer": "ipython3",
   "version": "3.11.5"
  },
  "orig_nbformat": 4
 },
 "nbformat": 4,
 "nbformat_minor": 2
}
